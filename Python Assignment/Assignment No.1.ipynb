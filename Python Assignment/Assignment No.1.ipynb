{
 "cells": [
  {
   "cell_type": "markdown",
   "id": "e5f1dcd2-3acb-4e8a-ab6c-8a06c4a72be5",
   "metadata": {},
   "source": [
    "                                                    Assignment No. 1"
   ]
  },
  {
   "cell_type": "raw",
   "id": "2d0adc9a-f9d0-44ea-8cc9-5908cb80801d",
   "metadata": {},
   "source": [
    "1. Question 1:\n",
    "   Write a Python program to print your name and favourite colour on two separate lines."
   ]
  },
  {
   "cell_type": "code",
   "execution_count": 3,
   "id": "73495714-9e00-4c21-a357-497b91f5626a",
   "metadata": {},
   "outputs": [
    {
     "name": "stdout",
     "output_type": "stream",
     "text": [
      "Priyanka S\n",
      " Red\n"
     ]
    }
   ],
   "source": [
    "print(\"Priyanka S\\n Red\")"
   ]
  },
  {
   "cell_type": "raw",
   "id": "d479f169-57d3-4afe-975b-c84ad27db7fc",
   "metadata": {},
   "source": [
    "2. Question 2:\n",
    "   Write a Python program that prints the result of adding 7 and 8."
   ]
  },
  {
   "cell_type": "code",
   "execution_count": 4,
   "id": "1f681d20-ebae-4dc6-9bfd-d0cbf1a56b61",
   "metadata": {},
   "outputs": [
    {
     "name": "stdout",
     "output_type": "stream",
     "text": [
      "15\n"
     ]
    }
   ],
   "source": [
    "print(7+8)"
   ]
  },
  {
   "cell_type": "raw",
   "id": "448ab078-96ac-42d9-9e6d-6fa9348fdb59",
   "metadata": {},
   "source": [
    "3. Question 3:\n",
    "   Use the print function to display the following text exactly as it is:\n",
    "   Python is fun!\n",
    "   Let's learn together."
   ]
  },
  {
   "cell_type": "code",
   "execution_count": 6,
   "id": "4d1e54db-c5dc-41bf-a1c1-61b377e632ce",
   "metadata": {},
   "outputs": [
    {
     "name": "stdout",
     "output_type": "stream",
     "text": [
      "Python is fun! \n",
      " Let's learn together.\n"
     ]
    }
   ],
   "source": [
    "print(\"Python is fun! \\n Let's learn together.\")"
   ]
  },
  {
   "cell_type": "raw",
   "id": "9b8b7c5c-0a13-460e-a257-3065d7eeef4f",
   "metadata": {},
   "source": [
    "4. Question 4:\n",
    "   Write a Python program to calculate and print the result of multiplying 6 by 9."
   ]
  },
  {
   "cell_type": "code",
   "execution_count": 7,
   "id": "f449793f-66d0-4739-94e4-a16b1598a960",
   "metadata": {},
   "outputs": [
    {
     "name": "stdout",
     "output_type": "stream",
     "text": [
      "54\n"
     ]
    }
   ],
   "source": [
    "print(6*9)"
   ]
  },
  {
   "cell_type": "raw",
   "id": "7a31d92d-8cca-4aab-a67f-bc04359d8579",
   "metadata": {},
   "source": [
    "5. Question 5:\n",
    "  Write a Python program that prints the result of adding 5 + 5 and\n",
    "  multiplying 2 * 3 in a single line of code."
   ]
  },
  {
   "cell_type": "code",
   "execution_count": 8,
   "id": "fa534e47-db6b-46df-accd-ca3827c06c60",
   "metadata": {},
   "outputs": [
    {
     "name": "stdout",
     "output_type": "stream",
     "text": [
      "10 6\n"
     ]
    }
   ],
   "source": [
    "print(5 + 5, 2 * 3)"
   ]
  },
  {
   "cell_type": "raw",
   "id": "7d402c39-eb35-4c71-b5c6-e36dfcc85180",
   "metadata": {},
   "source": [
    "1. Take the name A as input from the user and print \"Hello A\", where A is\n",
    "   the name in input."
   ]
  },
  {
   "cell_type": "code",
   "execution_count": 21,
   "id": "18f28ea2-c714-4efc-a949-87ec76c1bf0b",
   "metadata": {},
   "outputs": [
    {
     "name": "stdin",
     "output_type": "stream",
     "text": [
      "Enter your name A\n"
     ]
    },
    {
     "name": "stdout",
     "output_type": "stream",
     "text": [
      "Hellow, A\n"
     ]
    }
   ],
   "source": [
    "name = input(\"Enter your name\")\n",
    "print(\"Hellow, A\")"
   ]
  },
  {
   "cell_type": "raw",
   "id": "8bf3a1ab-6f2b-4250-9755-19f740b6b66a",
   "metadata": {},
   "source": [
    "2. You have x rupees in your savings. You google pay y rupees, print your\n",
    "   bank balance"
   ]
  },
  {
   "cell_type": "code",
   "execution_count": 22,
   "id": "2900bced-61cb-45d7-a89a-8fa0e8fe8581",
   "metadata": {},
   "outputs": [
    {
     "name": "stdin",
     "output_type": "stream",
     "text": [
      "Enter your savings x\n",
      "Enter google pay y\n"
     ]
    },
    {
     "name": "stdout",
     "output_type": "stream",
     "text": [
      "bank balace\n"
     ]
    }
   ],
   "source": [
    "x = input(\"Enter your savings\")\n",
    "y = input(\"Enter google pay\")\n",
    "print(\"bank balace\")"
   ]
  },
  {
   "cell_type": "raw",
   "id": "10dc153e-50fb-41c0-9338-81fdae43f459",
   "metadata": {},
   "source": [
    "3. Print the first five letters of the English alphabet i.e. A, B, C, D and E.\n",
    "   one below each other"
   ]
  },
  {
   "cell_type": "code",
   "execution_count": 28,
   "id": "3981fe1d-86f0-4553-9cdc-1892b01c49dc",
   "metadata": {},
   "outputs": [
    {
     "name": "stdout",
     "output_type": "stream",
     "text": [
      " A\n",
      " B\n",
      " C\n",
      " D\n",
      " E\n",
      " \n"
     ]
    }
   ],
   "source": [
    "print(\" A\\n B\\n C\\n D\\n E\\n \")"
   ]
  },
  {
   "cell_type": "raw",
   "id": "7cba367d-2d6c-4f2f-8095-041c15a8f41d",
   "metadata": {},
   "source": [
    "4. Take two names A and B as input from the user, and print \"A says Hi to\n",
    "   B\" (Without quotations), where A and B are the names in input."
   ]
  },
  {
   "cell_type": "code",
   "execution_count": 3,
   "id": "a2dd6bbf-3384-49bd-bedb-f2bca41acbd4",
   "metadata": {},
   "outputs": [
    {
     "name": "stdin",
     "output_type": "stream",
     "text": [
      "Enter the name priyanka\n",
      "Enter the name Onkar\n"
     ]
    },
    {
     "name": "stdout",
     "output_type": "stream",
     "text": [
      "priyanka says Hi to Onkar\n"
     ]
    }
   ],
   "source": [
    "A = input(\"Enter the name\")\n",
    "B = input(\"Enter the name\")\n",
    "print(A + \" says Hi to \" + B)"
   ]
  }
 ],
 "metadata": {
  "kernelspec": {
   "display_name": "Python 3 (ipykernel)",
   "language": "python",
   "name": "python3"
  },
  "language_info": {
   "codemirror_mode": {
    "name": "ipython",
    "version": 3
   },
   "file_extension": ".py",
   "mimetype": "text/x-python",
   "name": "python",
   "nbconvert_exporter": "python",
   "pygments_lexer": "ipython3",
   "version": "3.13.5"
  }
 },
 "nbformat": 4,
 "nbformat_minor": 5
}
