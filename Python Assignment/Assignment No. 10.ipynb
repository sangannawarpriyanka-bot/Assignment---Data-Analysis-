{
 "cells": [
  {
   "cell_type": "markdown",
   "id": "06f26298-f565-4ee3-86a3-1168a904be53",
   "metadata": {},
   "source": [
    "                                            Assignment No. 10"
   ]
  },
  {
   "cell_type": "markdown",
   "id": "8fe7b98e-2b02-4622-a2ee-75d4f2feac40",
   "metadata": {},
   "source": [
    "# Time Calculations and Prime Number Generator"
   ]
  },
  {
   "cell_type": "markdown",
   "id": "178b21dc-3ec8-42b2-a7cb-bc1488e3b55e",
   "metadata": {},
   "source": [
    "1. Seconds in an Hour\n",
    "  Use Python to calculate how many seconds are in one hour. Multiply the number of seconds\n",
    "  in a minute by the number of minutes in an hour."
   ]
  },
  {
   "cell_type": "code",
   "execution_count": 27,
   "id": "0a8a50f9-b9e8-4f31-b836-ecc1f41125c7",
   "metadata": {},
   "outputs": [
    {
     "name": "stdout",
     "output_type": "stream",
     "text": [
      "3600\n"
     ]
    }
   ],
   "source": [
    "seconds_in_minute = 60      # 60 seconds in a minute\n",
    "minutes_in_hour = 60        # 60 minutes in an hour\n",
    "\n",
    "seconds_in_hour = seconds_in_minute * minutes_in_hour\n",
    "print(seconds_in_hour)"
   ]
  },
  {
   "cell_type": "markdown",
   "id": "e0524893-3b89-48a9-a9cc-fbf362ab597b",
   "metadata": {},
   "source": [
    "2. Store the Result in a Variable\n",
    "  Assign the result from Question 1 to a variable called seconds_per_hour and print it."
   ]
  },
  {
   "cell_type": "code",
   "execution_count": 28,
   "id": "291107ca-6817-42a1-814b-e6a02f6c2b6a",
   "metadata": {},
   "outputs": [
    {
     "name": "stdout",
     "output_type": "stream",
     "text": [
      "3600\n"
     ]
    }
   ],
   "source": [
    "seconds_per_hour = 60 * 60\n",
    "print(seconds_per_hour)"
   ]
  },
  {
   "cell_type": "markdown",
   "id": "e112bcfd-263d-4e42-8cca-0d945d6d4984",
   "metadata": {},
   "source": [
    "3. Calculate Seconds in a Day\n",
    "  Estimate how many seconds are in a day. Use the variable seconds_per_hour and any other\n",
    "  variables you may need."
   ]
  },
  {
   "cell_type": "code",
   "execution_count": 29,
   "id": "d52c60f1-1935-416d-a707-2d139bf3f824",
   "metadata": {},
   "outputs": [
    {
     "name": "stdout",
     "output_type": "stream",
     "text": [
      "86400\n"
     ]
    }
   ],
   "source": [
    "seconds_per_hour = 60 * 60\n",
    "seconds_per_day = seconds_per_hour * 24\n",
    "print(seconds_per_day)"
   ]
  },
  {
   "cell_type": "markdown",
   "id": "c98ea972-9c82-4c27-b423-7b62de17327f",
   "metadata": {},
   "source": [
    "4. Save Seconds Per Day in a Variable\n",
    "  Recalculate the number of seconds in a day and assign the result to a variable called\n",
    "  seconds_per_day. Print the value."
   ]
  },
  {
   "cell_type": "code",
   "execution_count": 30,
   "id": "84840d72-ffe6-4f97-99ae-57871655755d",
   "metadata": {},
   "outputs": [
    {
     "name": "stdout",
     "output_type": "stream",
     "text": [
      "86400\n"
     ]
    }
   ],
   "source": [
    "seconds_per_hour = 3600\n",
    "seconds_per_day = seconds_per_hour * 24\n",
    "print(seconds_per_day)"
   ]
  },
  {
   "cell_type": "markdown",
   "id": "8cf46a96-3116-4d28-b937-8413ef6f2804",
   "metadata": {},
   "source": [
    "5. Floating-Point Division\n",
    " Divide seconds_per_day by seconds_per_hour using floating-point division (/). What\n",
    " result do you get?"
   ]
  },
  {
   "cell_type": "code",
   "execution_count": 31,
   "id": "669e24d4-ccb4-4d40-902b-3f4709a3c37a",
   "metadata": {},
   "outputs": [
    {
     "name": "stdout",
     "output_type": "stream",
     "text": [
      "24.0\n"
     ]
    }
   ],
   "source": [
    "seconds_per_hour = 3600\n",
    "seconds_per_day = 86400\n",
    "\n",
    "result = seconds_per_day / seconds_per_hour  # floating-point division\n",
    "print(result)"
   ]
  },
  {
   "cell_type": "markdown",
   "id": "7e398e7d-6702-4c9e-8667-5bbee40363bc",
   "metadata": {},
   "source": [
    "6. Integer Division\n",
    " Now divide seconds_per_day by seconds_per_hour using integer division (//). Does this\n",
    " value match the previous result aside from the decimal point?"
   ]
  },
  {
   "cell_type": "code",
   "execution_count": 32,
   "id": "536e5372-3cf5-42c1-91b5-26e07457d610",
   "metadata": {},
   "outputs": [
    {
     "name": "stdout",
     "output_type": "stream",
     "text": [
      "24\n"
     ]
    }
   ],
   "source": [
    "seconds_per_hour = 3600\n",
    "seconds_per_day = 86400\n",
    "\n",
    "result = seconds_per_day // seconds_per_hour  # integer division\n",
    "print(result)                                 # Yes! It matches the previous result (24.0) but without the decimal point (integer)."
   ]
  },
  {
   "cell_type": "markdown",
   "id": "037e01f1-98c7-483f-bb04-35e781cd45a0",
   "metadata": {},
   "source": [
    "7. Prime Number Generator\n",
    "  Write a generator function genPrimes() that yields an infinite sequence of prime numbers\n",
    "  starting from 2.\n",
    "  Use a loop to print the first 5 prime numbers generated by genPrimes()."
   ]
  },
  {
   "cell_type": "code",
   "execution_count": 33,
   "id": "d9c1507b-7d28-4d04-a02f-efc5bf2207c7",
   "metadata": {},
   "outputs": [
    {
     "name": "stdout",
     "output_type": "stream",
     "text": [
      "2\n",
      "3\n",
      "5\n",
      "7\n",
      "11\n"
     ]
    }
   ],
   "source": [
    "def genPrimes():\n",
    "    num = 2\n",
    "    while True:\n",
    "        for i in range(2, num):\n",
    "            if num % i == 0:           # not prime\n",
    "                break\n",
    "        else:\n",
    "            yield num                   # prime\n",
    "        num += 1\n",
    "\n",
    " # Print first 5 primes\n",
    "primes = genPrimes()\n",
    "for _ in range(5):\n",
    "    print(next(primes))"
   ]
  }
 ],
 "metadata": {
  "kernelspec": {
   "display_name": "Python 3 (ipykernel)",
   "language": "python",
   "name": "python3"
  },
  "language_info": {
   "codemirror_mode": {
    "name": "ipython",
    "version": 3
   },
   "file_extension": ".py",
   "mimetype": "text/x-python",
   "name": "python",
   "nbconvert_exporter": "python",
   "pygments_lexer": "ipython3",
   "version": "3.13.5"
  }
 },
 "nbformat": 4,
 "nbformat_minor": 5
}
