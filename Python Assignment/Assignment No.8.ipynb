{
 "cells": [
  {
   "cell_type": "markdown",
   "id": "a03b010e-d833-40c4-a3ae-0d37d7e93e31",
   "metadata": {},
   "source": [
    "                                                Assignment No. 8"
   ]
  },
  {
   "cell_type": "markdown",
   "id": "5c3ceea4-7f6c-43ce-9a5d-8487f480e5db",
   "metadata": {},
   "source": [
    "# Python Control Flow, Comprehensions, and Generators"
   ]
  },
  {
   "cell_type": "raw",
   "id": "4af84048-5978-4a6e-b8e3-9647e868017e",
   "metadata": {},
   "source": [
    "1. Conditional Logic\n",
    "Write a function that checks a number against 7 and prints:\n",
    "\n",
    "• 'too low' if less than 7,\n",
    "• 'just right' if equal to 7,\n",
    "• 'too high' if greater than 7.\n",
    "    Call the function with the values 7, 5, and 15."
   ]
  },
  {
   "cell_type": "code",
   "execution_count": 13,
   "id": "b050af05-2e00-4bc2-abc8-1c25de7ca9cf",
   "metadata": {},
   "outputs": [
    {
     "name": "stdout",
     "output_type": "stream",
     "text": [
      "just right\n",
      "too low\n",
      "too high\n"
     ]
    }
   ],
   "source": [
    "def check_number(num):\n",
    "    if num < 7:\n",
    "        print(\"too low\")\n",
    "    elif num == 7:\n",
    "        print(\"just right\")\n",
    "    else:\n",
    "        print(\"too high\")\n",
    "\n",
    "# Call the function\n",
    "check_number(7)   # just right\n",
    "check_number(5)   # too low\n",
    "check_number(15)  # too high"
   ]
  },
  {
   "cell_type": "raw",
   "id": "7dc35e54-9b75-43f8-9b02-de7a74e0fbb4",
   "metadata": {},
   "source": [
    "2. While Loop Comparison:\n",
    "Assign:\n",
    "    guess_me = 7\n",
    "    start = 1\n",
    "Write a while True: loop that compares start with guess_me:\n",
    "\n",
    "• Print 'too low' if start < guess_me\n",
    "• Print 'found it' and break if equal\n",
    "• Print 'too high' and break if greater\n",
    "    Increment start at the end of each loop cycle."
   ]
  },
  {
   "cell_type": "code",
   "execution_count": 14,
   "id": "9380e780-6263-46f3-a898-83ac14a52599",
   "metadata": {},
   "outputs": [
    {
     "name": "stdout",
     "output_type": "stream",
     "text": [
      "too low\n",
      "too low\n",
      "too low\n",
      "too low\n",
      "too low\n",
      "too low\n",
      "found it\n"
     ]
    }
   ],
   "source": [
    "guess_me = 7\n",
    "start = 1\n",
    "\n",
    "while True:\n",
    "    if start < guess_me:\n",
    "        print(\"too low\")\n",
    "    elif start == guess_me:\n",
    "        print(\"found it\")\n",
    "        break\n",
    "    else:\n",
    "        print(\"too high\")\n",
    "        break\n",
    "    start += 1"
   ]
  },
  {
   "cell_type": "raw",
   "id": "bd293563-0f89-4c33-b16b-2dd0b5679b4c",
   "metadata": {},
   "source": [
    "3. Loop Through a List\n",
    "    Use a for loop to print each element in this list:\n",
    "    [3, 2, 1, 0]"
   ]
  },
  {
   "cell_type": "code",
   "execution_count": 15,
   "id": "20e5dfdd-2cae-4f37-a922-a64677ef5d25",
   "metadata": {},
   "outputs": [
    {
     "name": "stdout",
     "output_type": "stream",
     "text": [
      "3\n",
      "2\n",
      "1\n",
      "0\n"
     ]
    }
   ],
   "source": [
    "for num in [3, 2, 1, 0]:\n",
    "    print(num)"
   ]
  },
  {
   "cell_type": "code",
   "execution_count": 16,
   "id": "2714af77-1458-4796-bfdc-016d2c26f626",
   "metadata": {},
   "outputs": [
    {
     "name": "stdout",
     "output_type": "stream",
     "text": [
      "3\n",
      "2\n",
      "1\n",
      "0\n"
     ]
    }
   ],
   "source": [
    "for x in [3, 2, 1, 0]: print(x)"
   ]
  },
  {
   "cell_type": "raw",
   "id": "68b2cd59-ae75-4af0-8e07-fe450334fedd",
   "metadata": {},
   "source": [
    "4. List Comprehension\n",
    "   Use a list comprehension to generate a list of even numbers from 0 to 10."
   ]
  },
  {
   "cell_type": "code",
   "execution_count": 17,
   "id": "a59eacd2-c606-4584-b09a-3ee2a817398a",
   "metadata": {},
   "outputs": [
    {
     "name": "stdout",
     "output_type": "stream",
     "text": [
      "[0, 2, 4, 6, 8, 10]\n"
     ]
    }
   ],
   "source": [
    "evens = [x for x in range(0, 11) if x % 2 == 0]\n",
    "print(evens)"
   ]
  },
  {
   "cell_type": "raw",
   "id": "a142617f-556c-4700-9ecf-ac69cd4d3aee",
   "metadata": {},
   "source": [
    "5. Dictionary Comprehension\n",
    "    Use a dictionary comprehension (or another method) to create a dictionary called squares where:\n",
    "• The keys are numbers from 0 to 9\n",
    "• The values are the squares of the keys"
   ]
  },
  {
   "cell_type": "code",
   "execution_count": 18,
   "id": "1ee48f1c-59df-4ab5-b655-03516d71997e",
   "metadata": {},
   "outputs": [
    {
     "name": "stdout",
     "output_type": "stream",
     "text": [
      "{0: 0, 1: 1, 2: 4, 3: 9, 4: 16, 5: 25, 6: 36, 7: 49, 8: 64, 9: 81}\n"
     ]
    }
   ],
   "source": [
    "squares = {x: x**2 for x in range(10)}\n",
    "print(squares)"
   ]
  },
  {
   "cell_type": "raw",
   "id": "c36778fa-6a3e-4af0-9a0a-f42c58f730a3",
   "metadata": {},
   "source": [
    "6. Set Comprehension\n",
    "   Create a set odd that contains all the odd numbers from 0 to 9 using a set comprehension."
   ]
  },
  {
   "cell_type": "code",
   "execution_count": 19,
   "id": "3039387f-3f1c-42d1-a5b6-c90f30cb47e8",
   "metadata": {},
   "outputs": [
    {
     "name": "stdout",
     "output_type": "stream",
     "text": [
      "{1, 3, 5, 7, 9}\n"
     ]
    }
   ],
   "source": [
    "odd = {x for x in range(10) if x % 2 != 0}\n",
    "print(odd)"
   ]
  },
  {
   "cell_type": "raw",
   "id": "d0949a41-0997-4c90-8e04-d9f884070a27",
   "metadata": {},
   "source": [
    "7. Generator Expression\n",
    " Use a generator expression to create strings like 'Got_0', 'Got_1', ..., 'Got_9'.\n",
    " Iterate over the generator using a for loop and print the results in one line separated by\n",
    " spaces."
   ]
  },
  {
   "cell_type": "code",
   "execution_count": 20,
   "id": "f6b90a15-b3e3-45fe-9774-a7abbbb1bf07",
   "metadata": {},
   "outputs": [
    {
     "name": "stdout",
     "output_type": "stream",
     "text": [
      "Got_0 Got_1 Got_2 Got_3 Got_4 Got_5 Got_6 Got_7 Got_8 Got_9\n"
     ]
    }
   ],
   "source": [
    "gen = (f\"Got_{x}\" for x in range(10))\n",
    "print(*gen)"
   ]
  },
  {
   "cell_type": "raw",
   "id": "54f58c03-3813-4faa-b0ff-acd5454fc4cc",
   "metadata": {},
   "source": [
    "8. Define a Simple Function\n",
    "  Define a function good() that returns this list:\n",
    "  ['Harry', 'Ron', 'Hermione']"
   ]
  },
  {
   "cell_type": "code",
   "execution_count": 21,
   "id": "8733b48a-9620-4726-a87b-9e04a0d980a9",
   "metadata": {},
   "outputs": [
    {
     "name": "stdout",
     "output_type": "stream",
     "text": [
      "['Harry', 'Ron', 'Hermione']\n"
     ]
    }
   ],
   "source": [
    "def good():\n",
    "    return ['Harry', 'Ron', 'Hermione']\n",
    "print(good())"
   ]
  },
  {
   "cell_type": "raw",
   "id": "9bc8567c-4be4-45e9-b63e-33d88cf7eaf5",
   "metadata": {},
   "source": [
    "9. Generator Function and Indexing\n",
    " Define a generator function get_odds() that yields odd numbers from 0 to 9.\n",
    " Use a loop or generator handling to find and print the third odd number generated."
   ]
  },
  {
   "cell_type": "code",
   "execution_count": 22,
   "id": "97c55a90-7d26-46bb-8eef-5237bcfeae64",
   "metadata": {},
   "outputs": [
    {
     "name": "stdout",
     "output_type": "stream",
     "text": [
      "5\n"
     ]
    }
   ],
   "source": [
    "def get_odds():\n",
    "    for x in range(10):\n",
    "        if x % 2 != 0:   # odd number check\n",
    "            yield x\n",
    "\n",
    "# get the 3rd odd number\n",
    "odds = get_odds()\n",
    "for i, num in enumerate(odds, start=1):\n",
    "    if i == 3:\n",
    "        print(num)\n",
    "        break"
   ]
  },
  {
   "cell_type": "code",
   "execution_count": 23,
   "id": "aa3e5004-8010-4a4c-a710-c0d1484d8c8a",
   "metadata": {},
   "outputs": [
    {
     "name": "stdout",
     "output_type": "stream",
     "text": [
      "5\n"
     ]
    }
   ],
   "source": [
    "print(next(x for i, x in enumerate((n for n in range(10) if n % 2 != 0), 1) if i == 3))"
   ]
  },
  {
   "cell_type": "raw",
   "id": "b9188410-f4e0-4d8f-bac0-813461e18d4a",
   "metadata": {},
   "source": [
    "10. Use zip() to Build a Dictionary\n",
    "  Given:\n",
    "  titles = ['Creature of Habit', 'Crewel Fate']\n",
    "  plots = ['A nun turns into a monster', 'A haunted yarn shop']\n",
    "\n",
    "Use zip() to build and print a dictionary called movies that pairs each title with its plot."
   ]
  },
  {
   "cell_type": "code",
   "execution_count": 24,
   "id": "81235e25-157d-49cd-bc5d-f6cded1a9e25",
   "metadata": {},
   "outputs": [
    {
     "name": "stdout",
     "output_type": "stream",
     "text": [
      "{'Creature of Habit': 'A nun turns into a monster', 'Crewel Fate': 'A haunted yarn shop'}\n"
     ]
    }
   ],
   "source": [
    "titles = ['Creature of Habit', 'Crewel Fate']\n",
    "plots = ['A nun turns into a monster', 'A haunted yarn shop']\n",
    "\n",
    "movies = dict(zip(titles, plots))  # pair titles with plots\n",
    "print(movies)"
   ]
  }
 ],
 "metadata": {
  "kernelspec": {
   "display_name": "Python 3 (ipykernel)",
   "language": "python",
   "name": "python3"
  },
  "language_info": {
   "codemirror_mode": {
    "name": "ipython",
    "version": 3
   },
   "file_extension": ".py",
   "mimetype": "text/x-python",
   "name": "python",
   "nbconvert_exporter": "python",
   "pygments_lexer": "ipython3",
   "version": "3.13.5"
  }
 },
 "nbformat": 4,
 "nbformat_minor": 5
}
