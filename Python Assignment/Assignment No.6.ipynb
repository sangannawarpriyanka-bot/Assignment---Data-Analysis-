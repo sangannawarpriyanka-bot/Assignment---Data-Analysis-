{
 "cells": [
  {
   "cell_type": "markdown",
   "id": "b82e2fea-188f-4741-975e-9a2821d38bc4",
   "metadata": {},
   "source": [
    "                                           Assignment No. 6"
   ]
  },
  {
   "cell_type": "markdown",
   "id": "a10357fc-84ba-4755-9371-3a636d8c6378",
   "metadata": {},
   "source": [
    "# Functions and Lambda Expressions\n",
    "\n",
    "# 1. Short Answer Questions\n",
    "\n",
    "Q1. Explain the difference between def statements and lambda expressions. Give an\n",
    "    example of each."
   ]
  },
  {
   "cell_type": "raw",
   "id": "c0030faa-7d16-4853-acc7-20f53a37822b",
   "metadata": {},
   "source": [
    "#🔹 def Statements\n",
    "   -Used to define regular named functions.\n",
    "   -Can have multiple lines of code.\n",
    "   -Can include complex logic like loops, conditions, and docstrings.\n",
    "   -Always creates a function with a name.\n",
    "\n",
    "# Example with def:\n",
    "\n",
    "def add(x, y):\n",
    "    return x + y\n",
    "\n",
    "print(add(3, 4))  # Output: 7\n",
    "\n",
    "#🔹 2. lambda Expressions\n",
    "   -Used to define anonymous (nameless) functions.\n",
    "   =Usually written in one line.\n",
    "   -Cannot have statements (like loops or return — it’s implicit).\n",
    "   -Typically used for short, throwaway functions like in map(), filter(), sorted().\n",
    "\n",
    "# Example with lambda:\n",
    "\n",
    "add = lambda x, y: x + y\n",
    "    print(add(3, 4))  # Output: 7"
   ]
  },
  {
   "cell_type": "markdown",
   "id": "6a133417-4406-4c11-9333-498cfd9cf595",
   "metadata": {},
   "source": [
    "Q2. List and explain three benefits of using lambda expressions."
   ]
  },
  {
   "cell_type": "raw",
   "id": "26370459-8d6b-4e78-b999-8bf526a427f3",
   "metadata": {},
   "source": [
    "1️⃣ Short and Simple :    Lets you write small functions in one line.\n",
    "\n",
    "square = lambda x: x**2\n",
    "print(square(5))  # 25\n",
    "\n",
    "\n",
    "2️⃣ No Name Needed:        Useful for one-time functions (you don’t have to define with def).\n",
    "\n",
    "nums = [1, 2, 3]\n",
    "print(list(map(lambda x: x*2, nums)))  # [2, 4, 6]\n",
    "\n",
    "\n",
    "3️⃣ Inline Use:            Can be used inside other functions like map(), filter(), sorted() directly.\n",
    "\n",
    "words = ['apple', 'banana', 'pear']\n",
    "print(sorted(words, key=lambda w: len(w)))  # ['pear', 'apple', 'banana']"
   ]
  },
  {
   "cell_type": "markdown",
   "id": "4762fe5e-885a-443a-b91b-0bfbebb1c512",
   "metadata": {},
   "source": [
    "Q3. Compare map(), filter(), and reduce() with one-line examples using a lambda\n",
    "    function and a list."
   ]
  },
  {
   "cell_type": "raw",
   "id": "babb6b83-df92-4fe6-a08a-a5e74f2a1302",
   "metadata": {},
   "source": [
    "🔹 1. map()\n",
    "\n",
    "What it does: Applies a function to each element in a list and returns a new list.\n",
    "\n",
    "nums = [1, 2, 3, 4]\n",
    "print(list(map(lambda x: x*2, nums)))             # [2, 4, 6, 8]\n",
    "\n",
    "🔹 2. filter()\n",
    "\n",
    "What it does: Filters elements of a list based on a condition and returns those that are True.\n",
    "\n",
    "nums = [1, 2, 3, 4]\n",
    "print(list(filter(lambda x: x%2==0, nums)))          # [2, 4]\n",
    "\n",
    "🔹 3. reduce()\n",
    "\n",
    "What it does: Applies a function cumulatively to the items in a list (reduces list to a single value).\n",
    "\n",
    "from functools import reduce\n",
    "nums = [1, 2, 3, 4]\n",
    "print(reduce(lambda x, y: x+y, nums))                 # 10"
   ]
  },
  {
   "cell_type": "markdown",
   "id": "77a4e2bd-a684-4969-a1d1-55f5a1a37d8d",
   "metadata": {},
   "source": [
    "Q4. What are function annotations in Python? Write a function that uses them."
   ]
  },
  {
   "cell_type": "raw",
   "id": "a322afe4-4160-4b16-826e-5d4e3d510480",
   "metadata": {},
   "source": [
    "#Function Annotations in Python:\n",
    "    -Function annotations let you attach information (like expected data types) to the parameters and return value of a function.\n",
    "    -They don’t enforce the types (Python won’t throw an error if you pass the wrong type) — they’re just hints for readability, documentation,\n",
    "     and tools (like IDEs or type checkers).\n",
    "[Syntax:\n",
    "def func(parameter: type) -> return_type:\n",
    "    # function body]\n",
    "\n",
    "parameter: type → annotation for the parameter\n",
    "-> return_type → annotation for the return value\n",
    "\n",
    "Exampl: def add(a: int, b: int) -> int:\n",
    "            return a + b\n",
    "         print(add(3, 4))       # Output: 7"
   ]
  },
  {
   "cell_type": "markdown",
   "id": "ef1ae2c3-7676-46f8-a29d-4e4e092dd159",
   "metadata": {},
   "source": [
    "Q5. What is a recursive function? Write a simple recursive function to calculate the\n",
    "    factorial of a number."
   ]
  },
  {
   "cell_type": "raw",
   "id": "51b526ff-c3db-4d8a-b1d5-b1c489725e0a",
   "metadata": {},
   "source": [
    "Recursive Function:  A recursive function is a function that calls itself to solve smaller parts of the same problem,\n",
    "                     until it reaches a base case (stopping condition).\n",
    "def fact(n):\n",
    "    if n <= 1:   # base case\n",
    "        return 1\n",
    "    return n * fact(n - 1)  # recursive case\n",
    "\n",
    "print(fact(5))  # Output: 120"
   ]
  },
  {
   "cell_type": "markdown",
   "id": "9a029dcd-e3a4-4780-b44a-d0103f0fb87f",
   "metadata": {},
   "source": [
    "Q6. State five design guidelines you should follow while writing functions in Python."
   ]
  },
  {
   "cell_type": "raw",
   "id": "f9d8d83b-0cbd-4052-a29a-acaa133bc7e2",
   "metadata": {},
   "source": [
    "1.Use clear and descriptive names:\n",
    "    *Function names should explain what the function does.\n",
    "    *Example: calculate_area() instead of func1()\n",
    "\n",
    "2.Keep functions short and focused:\n",
    "    *A function should do one task only.\n",
    "    *Easier to debug and reuse.\n",
    "\n",
    "3.Use parameters instead of hardcoding values:\n",
    "    *Make your function flexible by passing values as arguments.\n",
    "    *Example: def greet(name): instead of writing name inside the function.\n",
    "\n",
    "4.Add docstrings and comments:\n",
    "    *Explain what the function does, its parameters, and return value.\n",
    "    *Example:\n",
    "        def add(a, b):\n",
    "            \"\"\"Return the sum of two numbers.\"\"\"\n",
    "            return a + b\n",
    "\n",
    "5.Return values instead of printing inside the function:\n",
    "    *Return data so you can reuse it elsewhere.\n",
    "    *Example: return result instead of print(result) inside the function."
   ]
  },
  {
   "cell_type": "markdown",
   "id": "ca4de49d-5a02-4d28-9ade-c2ece12473aa",
   "metadata": {},
   "source": [
    "Q7. Name at least three ways a function can communicate results to a caller and briefly\n",
    "    explain each."
   ]
  },
  {
   "cell_type": "raw",
   "id": "c3066912-650c-4aaa-a23b-4607f239c87e",
   "metadata": {},
   "source": [
    "1.Return Values:\n",
    "    *The most common way: use return to send back a value.\n",
    "    *Example:\n",
    "\n",
    "        def add(a, b):\n",
    "            return a + b\n",
    "        result = add(3, 4)      # result = 7\n",
    "\n",
    "2.Modifying Mutable Arguments:\n",
    "    *A function can change a mutable object (like a list or dictionary) passed to it.\n",
    "    *Example:\n",
    "\n",
    "    def add_item(lst):\n",
    "        lst.append(10)   # modifies the original list\n",
    "    my_list = [1, 2, 3]\n",
    "    add_item(my_list)\n",
    "    print(my_list)  # [1, 2, 3, 10]\n",
    "\n",
    "3.Printing Output (side effect):\n",
    "    *The function can directly print the result to the console. (Less flexible than return.)\n",
    "    *Example:\n",
    "\n",
    "    def greet(name):\n",
    "        print(\"Hello\", name)\n",
    "    greet(\"Priya\")  # prints \"Hello Priya\""
   ]
  },
  {
   "cell_type": "markdown",
   "id": "ff75ec27-3c66-4786-a8e1-b9513683f100",
   "metadata": {},
   "source": [
    "# 2. Coding Tasks\n",
    "\n",
    "Task 1:\n",
    "    Write a lambda function that takes two numbers and returns their product. Assign it to a\n",
    "    variable and call it with 5 and 7."
   ]
  },
  {
   "cell_type": "code",
   "execution_count": 29,
   "id": "c38678c8-00ea-4d79-a80c-aec19b46b50c",
   "metadata": {},
   "outputs": [
    {
     "name": "stdout",
     "output_type": "stream",
     "text": [
      "35\n"
     ]
    }
   ],
   "source": [
    "multiply = lambda x, y: x * y     # lambda function for product  \n",
    "print(multiply(5, 7))             # call it with 5 and 7                # Output: 35"
   ]
  },
  {
   "cell_type": "markdown",
   "id": "161e96f8-70a0-4288-a08a-ad85e339ff59",
   "metadata": {},
   "source": [
    "Task 2:\n",
    "    Use map() to square every number in a list [1, 2, 3, 4, 5]."
   ]
  },
  {
   "cell_type": "code",
   "execution_count": 30,
   "id": "4b6767b6-ba24-4b30-b99d-e6f2d75574ba",
   "metadata": {},
   "outputs": [
    {
     "name": "stdout",
     "output_type": "stream",
     "text": [
      "[1, 4, 9, 16, 25]\n"
     ]
    }
   ],
   "source": [
    "numbers = [1, 2, 3, 4, 5]\n",
    "squared = list(map(lambda x: x**2, numbers))\n",
    "print(squared)"
   ]
  },
  {
   "cell_type": "code",
   "execution_count": 31,
   "id": "18065082-6840-4710-b9a2-651bf8520ef0",
   "metadata": {},
   "outputs": [
    {
     "name": "stdout",
     "output_type": "stream",
     "text": [
      "[1, 4, 9, 16, 25]\n"
     ]
    }
   ],
   "source": [
    "print(list(map(lambda x: x*x, [1, 2, 3, 4, 5])))"
   ]
  },
  {
   "cell_type": "markdown",
   "id": "003ff1bc-44ef-457b-89a9-f562dc5bc5b8",
   "metadata": {},
   "source": [
    "Task 3:\n",
    "    Use filter() to extract only the even numbers from the list [10, 15, 20, 25, 30]."
   ]
  },
  {
   "cell_type": "code",
   "execution_count": 32,
   "id": "cbeca049-1bc1-42fa-99b8-34bf51a48eee",
   "metadata": {},
   "outputs": [
    {
     "name": "stdout",
     "output_type": "stream",
     "text": [
      "[10, 20, 30]\n"
     ]
    }
   ],
   "source": [
    "numbers = [10, 15, 20, 25, 30]\n",
    "evens = list(filter(lambda x: x % 2 == 0, numbers))\n",
    "print(evens)"
   ]
  },
  {
   "cell_type": "code",
   "execution_count": 33,
   "id": "66274268-22ea-472c-bdfe-ea62be118b0f",
   "metadata": {},
   "outputs": [
    {
     "name": "stdout",
     "output_type": "stream",
     "text": [
      "[10, 20, 30]\n"
     ]
    }
   ],
   "source": [
    "print(list(filter(lambda x: x%2==0, [10, 15, 20, 25, 30])))"
   ]
  },
  {
   "cell_type": "markdown",
   "id": "06080892-880f-4f63-834f-c18e901ed2a4",
   "metadata": {},
   "source": [
    "Task 4:\n",
    "    Use reduce() from functools to calculate the product of numbers in [1, 2, 3, 4, 5]."
   ]
  },
  {
   "cell_type": "code",
   "execution_count": 34,
   "id": "8c535dff-aede-419f-a266-3966865fd733",
   "metadata": {},
   "outputs": [
    {
     "name": "stdout",
     "output_type": "stream",
     "text": [
      "120\n"
     ]
    }
   ],
   "source": [
    "from functools import reduce\n",
    "print(reduce(lambda x, y: x*y, [1, 2, 3, 4, 5]))"
   ]
  },
  {
   "cell_type": "code",
   "execution_count": 35,
   "id": "fc206480-6f89-4424-8c54-368ec3357de5",
   "metadata": {},
   "outputs": [
    {
     "name": "stdout",
     "output_type": "stream",
     "text": [
      "120\n"
     ]
    }
   ],
   "source": [
    "from functools import reduce\n",
    "\n",
    "numbers = [1, 2, 3, 4, 5]\n",
    "product = reduce(lambda x, y: x * y, numbers)\n",
    "print(product)"
   ]
  },
  {
   "cell_type": "markdown",
   "id": "63fcb86d-5538-42ee-8877-a5e5a59b9520",
   "metadata": {},
   "source": [
    "Task 5:\n",
    "    Create a function with annotations that:\n",
    "    • takes an integer as input,\n",
    "    • returns a string saying whether it is \"Even\" or \"Odd\"."
   ]
  },
  {
   "cell_type": "code",
   "execution_count": 36,
   "id": "a924eecc-3c0b-4e11-988a-ce27883c0c4b",
   "metadata": {},
   "outputs": [
    {
     "name": "stdout",
     "output_type": "stream",
     "text": [
      "Even\n",
      "Odd\n"
     ]
    }
   ],
   "source": [
    "def check(n: int) -> str:\n",
    "    return \"Even\" if n % 2 == 0 else \"Odd\"\n",
    "\n",
    "print(check(4))  # Even\n",
    "print(check(7))  # Odd"
   ]
  },
  {
   "cell_type": "markdown",
   "id": "b473b9c8-0133-478b-ad39-912e2585ae30",
   "metadata": {},
   "source": [
    "Task 6:\n",
    "    Write a recursive function to compute the sum of all numbers from 1 to n."
   ]
  },
  {
   "cell_type": "code",
   "execution_count": 37,
   "id": "9298baf8-42ae-4ac2-a2cd-b487574bbb81",
   "metadata": {},
   "outputs": [
    {
     "name": "stdout",
     "output_type": "stream",
     "text": [
      "15\n"
     ]
    }
   ],
   "source": [
    "def sum_n(n):\n",
    "    return 0 if n == 0 else n + sum_n(n-1)\n",
    "\n",
    "print(sum_n(5))  # Output: 15"
   ]
  },
  {
   "cell_type": "markdown",
   "id": "e7192a7a-9f66-4f84-96e9-2bdc4cee01e6",
   "metadata": {},
   "source": [
    "Bonus Question:\n",
    "    Write a function that returns different results using print, return, and yield. Call the\n",
    "    function and show how each type of output works."
   ]
  },
  {
   "cell_type": "code",
   "execution_count": 38,
   "id": "9b37c075-60df-4851-89a4-270b8c572acb",
   "metadata": {},
   "outputs": [
    {
     "name": "stdout",
     "output_type": "stream",
     "text": [
      "Double: 10\n",
      "10\n",
      "[2, 4, 6, 8, 10]\n"
     ]
    }
   ],
   "source": [
    "# 1️⃣ Function using print\n",
    "def func_print(n):\n",
    "    print(\"Double:\", n*2)\n",
    "\n",
    "# 2️⃣ Function using return\n",
    "def func_return(n):\n",
    "    return n*2\n",
    "\n",
    "# 3️⃣ Function using yield (generator)\n",
    "def func_yield(n):\n",
    "    for i in range(1, n+1):\n",
    "        yield i*2\n",
    "\n",
    "# --- Using them ---\n",
    "func_print(5)                 # just prints\n",
    "print(func_return(5))         # returns value\n",
    "print(list(func_yield(5)))    # yields values (converted to list)"
   ]
  }
 ],
 "metadata": {
  "kernelspec": {
   "display_name": "Python 3 (ipykernel)",
   "language": "python",
   "name": "python3"
  },
  "language_info": {
   "codemirror_mode": {
    "name": "ipython",
    "version": 3
   },
   "file_extension": ".py",
   "mimetype": "text/x-python",
   "name": "python",
   "nbconvert_exporter": "python",
   "pygments_lexer": "ipython3",
   "version": "3.13.5"
  }
 },
 "nbformat": 4,
 "nbformat_minor": 5
}
