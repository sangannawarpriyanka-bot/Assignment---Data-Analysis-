{
 "cells": [
  {
   "cell_type": "markdown",
   "id": "c244ecc7-272f-42f0-8178-b7707028384c",
   "metadata": {},
   "source": [
    "                                            Assignment No.4"
   ]
  },
  {
   "cell_type": "markdown",
   "id": "34c28311-3d40-465f-ad2f-f3f32e864afa",
   "metadata": {},
   "source": [
    "1. Question 1:\n",
    "Write a Python program that checks if a number entered by the user is even\n",
    "or odd. Print \"Even\" if the number is even and \"Odd\" if it is odd."
   ]
  },
  {
   "cell_type": "code",
   "execution_count": 1,
   "id": "719f8be2-d8d0-46d4-88f9-dd9f23efc15d",
   "metadata": {},
   "outputs": [
    {
     "name": "stdin",
     "output_type": "stream",
     "text": [
      "Enter a number:  3\n"
     ]
    },
    {
     "name": "stdout",
     "output_type": "stream",
     "text": [
      "Odd\n"
     ]
    }
   ],
   "source": [
    "num = int(input(\"Enter a number: \"))\n",
    "\n",
    "if num % 2 == 0:\n",
    "    print(\"Even\")\n",
    "else:\n",
    "    print(\"Odd\")"
   ]
  },
  {
   "cell_type": "markdown",
   "id": "5eb4bd71-b9e1-46c4-96d2-007e6d6d668b",
   "metadata": {},
   "source": [
    "2. Question 2:\n",
    "Create a program that prompts the user for their age and prints whether\n",
    "they are a child (0-12), teenager (13-19), or adult (20 and above)."
   ]
  },
  {
   "cell_type": "code",
   "execution_count": 2,
   "id": "53fca1b4-3a98-4c18-bfbc-ca3a7be2ee49",
   "metadata": {},
   "outputs": [
    {
     "name": "stdin",
     "output_type": "stream",
     "text": [
      "Enter your age:  26\n"
     ]
    },
    {
     "name": "stdout",
     "output_type": "stream",
     "text": [
      "Adult\n"
     ]
    }
   ],
   "source": [
    "age = int(input(\"Enter your age: \"))\n",
    "\n",
    "if 0 <= age <= 12:\n",
    "    print(\"Child\")\n",
    "elif 13 <= age <= 19:\n",
    "    print(\"Teenager\")\n",
    "elif age >= 20:\n",
    "    print(\"Adult\")\n",
    "else:\n",
    "    print(\"Invalid age\")"
   ]
  },
  {
   "cell_type": "code",
   "execution_count": 4,
   "id": "c13b3661-4586-4317-8265-5b90dfdbc8be",
   "metadata": {},
   "outputs": [
    {
     "name": "stdin",
     "output_type": "stream",
     "text": [
      "Enter your age:  11\n"
     ]
    },
    {
     "name": "stdout",
     "output_type": "stream",
     "text": [
      "Child\n"
     ]
    }
   ],
   "source": [
    "age = int(input(\"Enter your age: \"))\n",
    "print(\"Child\" if age<=12 else \"Teenager\" if age<=19 else \"Adult\")"
   ]
  },
  {
   "cell_type": "markdown",
   "id": "167656b7-ddd3-43f3-996e-1f783e0a1fdf",
   "metadata": {},
   "source": [
    "3. Question 3:\n",
    "Write a program that takes two numbers as input from the user and prints\n",
    "which number is larger. If both numbers are equal, print \"Both numbers are\n",
    "equal.\""
   ]
  },
  {
   "cell_type": "code",
   "execution_count": 6,
   "id": "42b575f6-bfa9-45f7-b00a-8a41a3537364",
   "metadata": {},
   "outputs": [
    {
     "name": "stdin",
     "output_type": "stream",
     "text": [
      "Enter first number:  26\n",
      "Enter second number:  27\n"
     ]
    },
    {
     "name": "stdout",
     "output_type": "stream",
     "text": [
      "27 is larger\n"
     ]
    }
   ],
   "source": [
    "a = int(input(\"Enter first number: \"))\n",
    "b = int(input(\"Enter second number: \"))\n",
    "\n",
    "if a > b:\n",
    "    print(a, \"is larger\")\n",
    "elif b > a:\n",
    "    print(b, \"is larger\")\n",
    "else:\n",
    "    print(\"Both numbers are equal.\")"
   ]
  },
  {
   "cell_type": "markdown",
   "id": "5fbb259a-05ee-46db-b30b-bc6520021bec",
   "metadata": {},
   "source": [
    "4. Question 4:\n",
    "Create a program that checks if a user-entered password matches the\n",
    "string \"securePassword\". Print \"Access Granted\" if it matches, otherwise\n",
    "print \"Access Denied.\""
   ]
  },
  {
   "cell_type": "code",
   "execution_count": 8,
   "id": "085ea13e-5030-4d1a-9fac-799c79f6261b",
   "metadata": {},
   "outputs": [
    {
     "name": "stdin",
     "output_type": "stream",
     "text": [
      "Enter password:  securePassword\n"
     ]
    },
    {
     "name": "stdout",
     "output_type": "stream",
     "text": [
      "Access Granted\n"
     ]
    }
   ],
   "source": [
    "password = input(\"Enter password: \")\n",
    "\n",
    "if password == \"securePassword\":\n",
    "    print(\"Access Granted\")\n",
    "else:\n",
    "    print(\"Access Denied\")"
   ]
  },
  {
   "cell_type": "code",
   "execution_count": 10,
   "id": "36db3cbd-85ee-4f7d-b34f-430147ca7482",
   "metadata": {},
   "outputs": [
    {
     "name": "stdin",
     "output_type": "stream",
     "text": [
      "Enter password:  securepassword\n"
     ]
    },
    {
     "name": "stdout",
     "output_type": "stream",
     "text": [
      "Access Denied\n"
     ]
    }
   ],
   "source": [
    "print(\"Access Granted\" if input(\"Enter password: \") == \"securePassword\" else \"Access Denied\")"
   ]
  },
  {
   "cell_type": "markdown",
   "id": "bec6aec6-979a-4ba2-b91e-012685f95227",
   "metadata": {},
   "source": [
    "5. Question 5:\n",
    "Write a program that takes a score from the user (0-100) and prints the\n",
    "corresponding grade:\n",
    "A for 90-100\n",
    "B for 80-89\n",
    "C for 70-79\n",
    "D for 60-69\n",
    "F for below 60"
   ]
  },
  {
   "cell_type": "code",
   "execution_count": 11,
   "id": "8b0b27bb-efe0-42bc-b1fe-2929990bebd8",
   "metadata": {},
   "outputs": [
    {
     "name": "stdin",
     "output_type": "stream",
     "text": [
      "Enter your score (0-100):  80\n"
     ]
    },
    {
     "name": "stdout",
     "output_type": "stream",
     "text": [
      "B\n"
     ]
    }
   ],
   "source": [
    "score = int(input(\"Enter your score (0-100): \"))\n",
    "\n",
    "if 90 <= score <= 100:\n",
    "    print(\"A\")\n",
    "elif 80 <= score <= 89:\n",
    "    print(\"B\")\n",
    "elif 70 <= score <= 79:\n",
    "    print(\"C\")\n",
    "elif 60 <= score <= 69:\n",
    "    print(\"D\")\n",
    "else:\n",
    "    print(\"F\")"
   ]
  },
  {
   "cell_type": "code",
   "execution_count": 12,
   "id": "3cfd3f80-38ef-4f93-aee4-e667c3b2bb7c",
   "metadata": {},
   "outputs": [
    {
     "name": "stdin",
     "output_type": "stream",
     "text": [
      "Enter score:  75\n"
     ]
    },
    {
     "name": "stdout",
     "output_type": "stream",
     "text": [
      "C\n"
     ]
    }
   ],
   "source": [
    "s = int(input(\"Enter score: \"))\n",
    "print(\"A\" if s>=90 else \"B\" if s>=80 else \"C\" if s>=70 else \"D\" if s>=60 else \"F\")"
   ]
  },
  {
   "cell_type": "markdown",
   "id": "e0edfe55-55dd-4dd8-b764-cf2fc017b10a",
   "metadata": {},
   "source": [
    "6. Question 6:\n",
    "Create a program that asks the user for a number and checks if it is\n",
    "positive, negative, or zero. Print the corresponding message."
   ]
  },
  {
   "cell_type": "code",
   "execution_count": 13,
   "id": "bd06253f-0e13-4a90-88bc-8c3d8d428e0c",
   "metadata": {},
   "outputs": [
    {
     "name": "stdin",
     "output_type": "stream",
     "text": [
      "Enter a number:  50\n"
     ]
    },
    {
     "name": "stdout",
     "output_type": "stream",
     "text": [
      "Positive\n"
     ]
    }
   ],
   "source": [
    "num = int(input(\"Enter a number: \"))\n",
    "\n",
    "if num > 0:\n",
    "    print(\"Positive\")\n",
    "elif num < 0:\n",
    "    print(\"Negative\")\n",
    "else:\n",
    "    print(\"Zero\")"
   ]
  },
  {
   "cell_type": "markdown",
   "id": "a3f3361b-d835-44c0-bb00-47e170c9cec0",
   "metadata": {},
   "source": [
    "7. Question 7:\n",
    "Write a program that takes three numbers from the user and determines the\n",
    "largest of the three. Print the largest number."
   ]
  },
  {
   "cell_type": "code",
   "execution_count": 15,
   "id": "ffc2d04b-e098-4ddd-a18b-cd6d58c486f3",
   "metadata": {},
   "outputs": [
    {
     "name": "stdin",
     "output_type": "stream",
     "text": [
      "Enter first number:  60\n",
      "Enter second number:  78\n",
      "Enter third number:  9\n"
     ]
    },
    {
     "name": "stdout",
     "output_type": "stream",
     "text": [
      "The largest number is: 78\n"
     ]
    }
   ],
   "source": [
    "a = int(input(\"Enter first number: \"))\n",
    "b = int(input(\"Enter second number: \"))\n",
    "c = int(input(\"Enter third number: \"))\n",
    "\n",
    "print(\"The largest number is:\", max(a, b, c))"
   ]
  },
  {
   "cell_type": "markdown",
   "id": "1f62b5b6-fe7a-41d6-a16c-2301f1c15b96",
   "metadata": {},
   "source": [
    "8. Question 8:\n",
    "Create a program that checks if a user-entered character is a vowel (a, e, i,\n",
    "o, u) or a consonant. Print the corresponding message."
   ]
  },
  {
   "cell_type": "code",
   "execution_count": 17,
   "id": "c2a6ead8-c438-4333-a39d-1c4392031e72",
   "metadata": {},
   "outputs": [
    {
     "name": "stdin",
     "output_type": "stream",
     "text": [
      "Enter a character:  o\n"
     ]
    },
    {
     "name": "stdout",
     "output_type": "stream",
     "text": [
      "Vowel\n"
     ]
    }
   ],
   "source": [
    "c = input(\"Enter a character: \").lower()    # convert to lowercase\n",
    "\n",
    "if c in 'aeiou':\n",
    "    print(\"Vowel\")\n",
    "else:\n",
    "    print(\"Consonant\")"
   ]
  },
  {
   "cell_type": "markdown",
   "id": "88b83887-5a76-4175-8646-c7914e203886",
   "metadata": {},
   "source": [
    "9. Question 9:\n",
    "Write a program that checks if a given year is a leap year. A year is a leap\n",
    "year if it is divisible by 4, except for years that are divisible by 100 but not\n",
    "divisible by 400."
   ]
  },
  {
   "cell_type": "code",
   "execution_count": 18,
   "id": "99b8991f-1695-4921-bec8-a8dff57abee1",
   "metadata": {},
   "outputs": [
    {
     "name": "stdin",
     "output_type": "stream",
     "text": [
      "Enter a year:  2025\n"
     ]
    },
    {
     "name": "stdout",
     "output_type": "stream",
     "text": [
      "Not a Leap Year\n"
     ]
    }
   ],
   "source": [
    "year = int(input(\"Enter a year: \"))\n",
    "\n",
    "if (year % 4 == 0 and year % 100 != 0) or (year % 400 == 0):\n",
    "    print(\"Leap Year\")\n",
    "else:\n",
    "    print(\"Not a Leap Year\")"
   ]
  },
  {
   "cell_type": "markdown",
   "id": "829a5f46-c5e3-40f1-871e-682761988e70",
   "metadata": {},
   "source": [
    "10. Question 10:\n",
    "Create a program that prompts the user for a temperature in Celsius and\n",
    "converts it to Fahrenheit. If the converted temperature is greater than 100°F,\n",
    "print \"It's boiling!\" Otherwise, print \"It's not boiling yet.\""
   ]
  },
  {
   "cell_type": "code",
   "execution_count": 22,
   "id": "2c19b334-e321-4f50-b508-c769d3978005",
   "metadata": {},
   "outputs": [
    {
     "name": "stdin",
     "output_type": "stream",
     "text": [
      "Enter temperature in Celsius:  50\n"
     ]
    },
    {
     "name": "stdout",
     "output_type": "stream",
     "text": [
      "It's boiling!\n"
     ]
    }
   ],
   "source": [
    "celsius = float(input(\"Enter temperature in Celsius: \"))\n",
    "fahrenheit = (celsius * 9/5) + 32\n",
    "\n",
    "if fahrenheit > 100:\n",
    "    print(\"It's boiling!\")\n",
    "else:\n",
    "    print(\"It's not boiling yet.\")"
   ]
  }
 ],
 "metadata": {
  "kernelspec": {
   "display_name": "Python 3 (ipykernel)",
   "language": "python",
   "name": "python3"
  },
  "language_info": {
   "codemirror_mode": {
    "name": "ipython",
    "version": 3
   },
   "file_extension": ".py",
   "mimetype": "text/x-python",
   "name": "python",
   "nbconvert_exporter": "python",
   "pygments_lexer": "ipython3",
   "version": "3.13.5"
  }
 },
 "nbformat": 4,
 "nbformat_minor": 5
}
