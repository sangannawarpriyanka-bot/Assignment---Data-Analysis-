{
 "cells": [
  {
   "cell_type": "markdown",
   "id": "5b9ab8e7-d9f7-45eb-a6ef-dac7ea836554",
   "metadata": {},
   "source": [
    "                                          Assignment No. 5"
   ]
  },
  {
   "cell_type": "markdown",
   "id": "3f257bb6-24f7-44ee-b3e7-6061ca195b90",
   "metadata": {},
   "source": [
    "# problems on functions\n",
    "\n",
    "1. Given the temperature of a day in Degrees Celsius, convert this given\n",
    "temperature from Celsius to Fahrenheit. Complete the function to do so.\n",
    "Round the output up to 2 decimal places\n",
    "Note:\n",
    "    1. To round up the values -\n",
    "        Python : Use round(ans,2) to round up ans to two decimals\n",
    "    2. The formula to convert Celsius to Fahrenheit is: F = (9/5 * C) + 32"
   ]
  },
  {
   "cell_type": "code",
   "execution_count": 15,
   "id": "96d2c2b3-c385-455b-b1fc-920a7eb502ed",
   "metadata": {},
   "outputs": [
    {
     "name": "stdin",
     "output_type": "stream",
     "text": [
      "Enter temperature in Celsius:  30\n"
     ]
    },
    {
     "name": "stdout",
     "output_type": "stream",
     "text": [
      "Temperature in Fahrenheit: 86.0\n"
     ]
    }
   ],
   "source": [
    "def celsius_to_fahrenheit(celsius):\n",
    "    fahrenheit = (9/5 * celsius) + 32\n",
    "    return round(fahrenheit, 2)\n",
    "\n",
    "# take input from user\n",
    "temp_c = float(input(\"Enter temperature in Celsius: \"))\n",
    "# call function and print result\n",
    "print(\"Temperature in Fahrenheit:\", celsius_to_fahrenheit(temp_c))"
   ]
  },
  {
   "cell_type": "markdown",
   "id": "e655f0fb-84fd-411b-96fd-0ea014b8dd26",
   "metadata": {},
   "source": [
    "2. Write a program to calculate the total amount if the principal\n",
    "amount, simple interest rate per annum, and time in the number of days\n",
    "are given. The simple interest rate per annum is provided as a percentage.\n",
    "Assuming that there are 365 days in a year, print the total amount rounded\n",
    "up to 2 decimal places.\n",
    "Note 1: Use round(ans,2) to round up ans up to two decimals\n"
   ]
  },
  {
   "cell_type": "code",
   "execution_count": 2,
   "id": "138982bc-7145-4d4a-bf09-71c44b7878e4",
   "metadata": {},
   "outputs": [],
   "source": [
    "def simple_int(time,pa,ir):\n",
    "    ''' time, pa, ir represents the time in number of days,\n",
    "principal amount and rate of interest\n",
    "Return the simple interest'''\n",
    "    interest = (pa * ir * time)/(365*100)\n",
    "    ans = pa + interest\n",
    "\n",
    "    return round(ans,2)"
   ]
  },
  {
   "cell_type": "markdown",
   "id": "0917e86b-6d1e-4001-b4a4-0e20c51dd301",
   "metadata": {},
   "source": [
    "3. Write a program that takes the cost price of a vehicle as an argument and\n",
    "returns the road tax, that the vehicle owner has to pay according to the\n",
    "following criteria:\n",
    "\n",
    " Cost Price(in Rs)                  Tax\n",
    " >1,00,000                          20%\n",
    " >75,000 and <=1,00,000             15%\n",
    " >50,000 and <=75,000               10%\n",
    " <=50,000                            5%\n",
    "\n",
    "Note1: Return the tax up to one decimal place. You can use round(tax,1)\n"
   ]
  },
  {
   "cell_type": "code",
   "execution_count": 3,
   "id": "f5499f47-48e8-4ebb-ab7a-194a3537069d",
   "metadata": {},
   "outputs": [],
   "source": [
    "def road_tax(price):\n",
    "    if price > 100000:\n",
    "        tax = 0.2 * price\n",
    "    elif (price > 75000 and price <= 100000):\n",
    "        tax = 0.15 * price\n",
    "    elif (price > 50000 and price <= 75000):\n",
    "        tax = 0.1 * price\n",
    "    else:\n",
    "        tax = 0.05 * price\n",
    "    return round(tax,1)"
   ]
  },
  {
   "cell_type": "markdown",
   "id": "384d397b-4797-454e-b4ad-a2ebcaa6272d",
   "metadata": {},
   "source": [
    "4. You are given a positive integer A denoting the radius of a circle. You have\n",
    "to calculate the area of the circle. Note: The formula for the area of a circle\n",
    "is Area = πr2, where r is the circle's radius. You can use the value\n",
    "of PI as 3.1416. Round up the final answer up to 2 decimal places. You can\n",
    "use round(area, 2) for rounding area to 2 decimal places."
   ]
  },
  {
   "cell_type": "code",
   "execution_count": 4,
   "id": "3a82df2f-1964-456e-a209-464aefac86c2",
   "metadata": {},
   "outputs": [],
   "source": [
    "# @param A : integer\n",
    "# @return an integer\n",
    "import math\n",
    "def solve(self, A):\n",
    "    return math.ceil(math.pi*(A**2))"
   ]
  },
  {
   "cell_type": "markdown",
   "id": "a8786e12-01af-4bf3-ab71-c551f826587e",
   "metadata": {},
   "source": [
    "5. Given an integer n, write a program to return the sum of squares of first n\n",
    "natural numbers in integer format.\n",
    "Note1:\n",
    "The formula for the sum of squares of first n natural numbers is: n(n+1)\n",
    "(2n+1)/6"
   ]
  },
  {
   "cell_type": "code",
   "execution_count": 18,
   "id": "6791b05c-e588-4e93-b992-5c240c2d7c53",
   "metadata": {},
   "outputs": [
    {
     "name": "stdin",
     "output_type": "stream",
     "text": [
      " 3\n"
     ]
    },
    {
     "name": "stdout",
     "output_type": "stream",
     "text": [
      "14\n"
     ]
    }
   ],
   "source": [
    "n = int(input())  # take input\n",
    "sum_squares = n * (n + 1) * (2 * n + 1) // 6  # formula\n",
    "print(sum_squares)"
   ]
  },
  {
   "cell_type": "code",
   "execution_count": 20,
   "id": "7c59d155-3026-4c3e-a665-ae96b9fc36d2",
   "metadata": {},
   "outputs": [
    {
     "name": "stdin",
     "output_type": "stream",
     "text": [
      " 4\n"
     ]
    },
    {
     "name": "stdout",
     "output_type": "stream",
     "text": [
      "30\n"
     ]
    }
   ],
   "source": [
    "n = int(input())  # take input\n",
    "print(n * (n + 1) * (2 * n + 1) // 6)"
   ]
  },
  {
   "cell_type": "markdown",
   "id": "daa232a9-ae63-4d2d-aa1f-bdeba6c90947",
   "metadata": {},
   "source": [
    "6. You are given a lowercase latin alphabetic character C. You have to tell\n",
    "whether it is a vowel or not.\n",
    "The characters 'a', 'e', 'i', 'o', and 'u' are called vowels.\n",
    "Note: You just have to write the code inside the function and return the result.\n",
    "The input and output is handled in the backend.\n",
    "Problem Constraints:\n",
    "C ∈ ['a' - 'z']\n",
    "Input Format:\n",
    "The input consists of a single character C.\n",
    "Output Format:\n",
    "Return 1 if the given character is a vowel, else return 0 .\n"
   ]
  },
  {
   "cell_type": "code",
   "execution_count": 1,
   "id": "1547d397-7b0f-46fa-8dd8-99fcfd146622",
   "metadata": {},
   "outputs": [],
   "source": [
    "def solve(C):\n",
    "    # Check if the character is a vowel\n",
    "    if C in ['a', 'e', 'i', 'o', 'u']:\n",
    "        return 1\n",
    "    else:\n",
    "        return 0\n",
    "        return ans"
   ]
  },
  {
   "cell_type": "markdown",
   "id": "2f7ddfc3-a819-4a14-9658-eb3cf6419421",
   "metadata": {},
   "source": [
    "7. Given the height (A) and weight (B) of a person as input in centimetres and\n",
    "kilograms.\n",
    "Find the BMI of that person and the classification of the user based on their\n",
    "BMI.\n",
    "1. Print Underweight if BMI < 18.5\n",
    "2. Print Normal if BMI lies in the range [18.5, 24.9]\n",
    "3. Print Overweight if BMI lies in the range (24.9, 29.9]\n",
    "4. Print Obese if BMI is greater than 29.9\n",
    "If x is the weight in kilograms and y is the height in metres.\n",
    "Then, BMI is calculated as x/(y*y).\n",
    "Note: Use round(BMI,1) to get only one digit after decimal\n",
    "Input Format -\n",
    "The first line contains the height of the person in centimetres.\n",
    "The second line of the input contains the weight of the person in kilograms.\n",
    "Output Format -\n",
    "The first line of the output contains the classification of a person based on the\n",
    "BMI value.\n",
    "The second line of the output contains the BMI value of the person having only\n",
    "one digit after decimal.\n"
   ]
  },
  {
   "cell_type": "code",
   "execution_count": 7,
   "id": "f44d10ca-d4ba-403b-b033-df1eecd03c12",
   "metadata": {},
   "outputs": [
    {
     "name": "stdin",
     "output_type": "stream",
     "text": [
      " 170\n",
      " 70\n"
     ]
    },
    {
     "name": "stdout",
     "output_type": "stream",
     "text": [
      "Normal\n",
      "24.2\n"
     ]
    }
   ],
   "source": [
    "A = float(input())  # height in cm\n",
    "B = float(input())  # weight in kg\n",
    "bmi = round(B / ((A/100)**2), 1)\n",
    "print(\"Underweight\" if bmi < 18.5 else \n",
    "      \"Normal\" if bmi <= 24.9 else \n",
    "      \"Overweight\" if bmi <= 29.9 else \n",
    "      \"Obese\")\n",
    "print(bmi)"
   ]
  },
  {
   "cell_type": "code",
   "execution_count": 8,
   "id": "368dd367-fe0e-4789-923f-ca1361a536f5",
   "metadata": {},
   "outputs": [
    {
     "data": {
      "text/plain": [
       "'✅ How it works:\\n\\nHeight A in cm → converted to m.\\n\\nBMI = weight / (height_in_m^2).\\n\\nClassification is determined by conditions given.\\n\\nround(bmi, 1) ensures 1 digit after decimal.\\n\\nPrints the classification first, then the BMI.'"
      ]
     },
     "execution_count": 8,
     "metadata": {},
     "output_type": "execute_result"
    }
   ],
   "source": [
    "def solve(A, B):\n",
    "    # Convert height from cm to m\n",
    "    height_m = A / 100  \n",
    "    \n",
    "    # Calculate BMI\n",
    "    bmi = B / (height_m * height_m)\n",
    "    \n",
    "    # Round BMI to 1 decimal place\n",
    "    bmi = round(bmi, 1)\n",
    "    \n",
    "    # Classification\n",
    "    if bmi < 18.5:\n",
    "        classification = \"Underweight\"\n",
    "    elif 18.5 <= bmi <= 24.9:\n",
    "        classification = \"Normal\"\n",
    "    elif 24.9 < bmi <= 29.9:\n",
    "        classification = \"Overweight\"\n",
    "    else:\n",
    "        classification = \"Obese\"\n",
    "    \n",
    "    # Print classification and BMI\n",
    "    print(classification)\n",
    "    print(bmi)\n",
    "   \n",
    "'''✅ How it works:\n",
    "\n",
    "Height A in cm → converted to m.\n",
    "\n",
    "BMI = weight / (height_in_m^2).\n",
    "\n",
    "Classification is determined by conditions given.\n",
    "\n",
    "round(bmi, 1) ensures 1 digit after decimal.\n",
    "\n",
    "Prints the classification first, then the BMI.'''"
   ]
  },
  {
   "cell_type": "markdown",
   "id": "869ec621-4a8c-43e8-8f05-1a4cbc821379",
   "metadata": {},
   "source": [
    "# Problems on if else\n",
    "\n",
    "1. You are given 3 integer angles(in degrees) A, B and C of a triangle. You\n",
    "have to tell whether the triangle is valid or not.\n",
    "A triangle is valid if sum of its angles equals to 180.\n",
    "NOTE: You have to take the input of 3 sides of triangle from the user."
   ]
  },
  {
   "cell_type": "code",
   "execution_count": 9,
   "id": "4112cd3c-8fca-4bc1-bf81-a92b69e4912f",
   "metadata": {},
   "outputs": [
    {
     "name": "stdin",
     "output_type": "stream",
     "text": [
      " 40\n",
      " 80\n",
      " 80\n"
     ]
    },
    {
     "name": "stdout",
     "output_type": "stream",
     "text": [
      "0\n"
     ]
    }
   ],
   "source": [
    "A = int(input())\n",
    "B = int(input())\n",
    "C = int(input())\n",
    "if A+B+C == 180:\n",
    "    print (\"1\")\n",
    "else:\n",
    "    print(\"0\")"
   ]
  },
  {
   "cell_type": "markdown",
   "id": "4f2d79c1-1042-498d-bac9-b5274c460e4c",
   "metadata": {},
   "source": [
    "2. Write a program to input two numbers(A & B) from user and print the\n",
    "maximum element among A & B.\n",
    "Problem Constraints\n",
    "1 <= A <= 1000000\n",
    "1 <= B <= 1000000"
   ]
  },
  {
   "cell_type": "code",
   "execution_count": 13,
   "id": "20da9f41-9366-41a6-a0f8-0bb206323550",
   "metadata": {},
   "outputs": [
    {
     "name": "stdin",
     "output_type": "stream",
     "text": [
      " 20000\n",
      " 100\n"
     ]
    },
    {
     "name": "stdout",
     "output_type": "stream",
     "text": [
      "20000\n"
     ]
    }
   ],
   "source": [
    "A = int(input())\n",
    "B = int(input())\n",
    "if 1 <= A <= 1000000 and 1 <= B <= 1000000:\n",
    "    print(max(A,B))"
   ]
  },
  {
   "cell_type": "markdown",
   "id": "3ddb3be6-95ff-4e9d-9b3e-d7b7d214002a",
   "metadata": {},
   "source": [
    "3. You are given the Cost Price C and Selling Price S of a Product. You have to\n",
    "tell whether there is a Profit or Loss. Also, calculate total profit or loss.\n",
    "NOTE: It is guaranteed that Cost Price and Selling Price are not equal.\n",
    "NOTE: You have to take input of the Cost Price(C) and Selling Price(S) from\n",
    "the user.\n",
    "\n",
    "Problem Constraints\n",
    "C ≠ S\n",
    "1 <= C, S <= 109"
   ]
  },
  {
   "cell_type": "code",
   "execution_count": 11,
   "id": "38886d62-59db-49e2-afe8-496b45ca3ba4",
   "metadata": {},
   "outputs": [
    {
     "name": "stdin",
     "output_type": "stream",
     "text": [
      " 20\n",
      " 40\n"
     ]
    },
    {
     "name": "stdout",
     "output_type": "stream",
     "text": [
      "1\n",
      "20\n"
     ]
    }
   ],
   "source": [
    "C = int(input())\n",
    "S = int(input())\n",
    "Profit = S-C\n",
    "if 1<=C and S<= 10**9 and C != S and Profit > 1:\n",
    "    print(1)\n",
    "    print(S-C)\n",
    "else:\n",
    "    print(-1)\n",
    "    print(-(S-C))"
   ]
  },
  {
   "cell_type": "markdown",
   "id": "b061b8e8-b73e-4ca3-a135-7999996bb4ea",
   "metadata": {},
   "source": [
    "4. Given the number N, Categorise the number according to following\n",
    "\n",
    "condition :1. Odd-Positive2. Odd-Negative3. Even-Positive4. Even-\n",
    "NegativeNote : Intention of problem is to teach you Nested If-Else, so try to\n",
    "\n",
    "solve this problem using nested if-else\n",
    "Problem Constraints\n",
    "10000 <= N <= 10000 except 0"
   ]
  },
  {
   "cell_type": "code",
   "execution_count": 12,
   "id": "da9756f6-e136-47c2-988b-9b443cae469c",
   "metadata": {},
   "outputs": [
    {
     "name": "stdin",
     "output_type": "stream",
     "text": [
      " 140\n"
     ]
    },
    {
     "name": "stdout",
     "output_type": "stream",
     "text": [
      "Even-Positive\n"
     ]
    }
   ],
   "source": [
    "N = int(input())\n",
    "if -10000 <= N <= 10000 and N !=0:\n",
    "    if N < 0 and N%2 == 0:\n",
    "        print(\"Even-Negative\")\n",
    "    elif N > 0 and N % 2 == 0:\n",
    "        print(\"Even-Positive\")\n",
    "    elif N < 0 and N % 2 != 0:\n",
    "        print(\"Odd-Negative\")\n",
    "else:\n",
    "     print(\"Odd-Positive\")"
   ]
  },
  {
   "cell_type": "markdown",
   "id": "a1e40ed5-7a6c-4bdf-8045-8e602b520b57",
   "metadata": {},
   "source": [
    "# Problems on Loops\n",
    "\n",
    "1. Problem Description\n",
    "Take T (number of test cases) as input.\n",
    "For each test case, take integer N as input and Print the count of digits of that\n",
    "number.\n",
    "Note: No of digits for number 0 is considered as 1.\n",
    "Problem Constraints\n",
    "1 <= T <= 10000 <= N <= 100000000"
   ]
  },
  {
   "cell_type": "code",
   "execution_count": 15,
   "id": "65b7266b-627b-43b3-bfb5-fd41efa17bcc",
   "metadata": {},
   "outputs": [
    {
     "name": "stdin",
     "output_type": "stream",
     "text": [
      " 3\n",
      " 0\n"
     ]
    },
    {
     "name": "stdout",
     "output_type": "stream",
     "text": [
      "1\n"
     ]
    },
    {
     "name": "stdin",
     "output_type": "stream",
     "text": [
      " 9\n"
     ]
    },
    {
     "name": "stdout",
     "output_type": "stream",
     "text": [
      "1\n"
     ]
    },
    {
     "name": "stdin",
     "output_type": "stream",
     "text": [
      " 12345\n"
     ]
    },
    {
     "name": "stdout",
     "output_type": "stream",
     "text": [
      "5\n"
     ]
    }
   ],
   "source": [
    "T = int(input())      # number of test cases\n",
    "for _ in range(T):\n",
    "    N = int(input())  # number\n",
    "    print(len(str(N)))  # count of digits"
   ]
  },
  {
   "cell_type": "markdown",
   "id": "088df519-e214-468e-8ded-2064b6b100a6",
   "metadata": {},
   "source": [
    "2. Problem Description\n",
    "Write a program that accepts T numbers(N) from the user and find reverse of\n",
    "the given number(N).\n",
    "Problem Constraints\n",
    "1 <= T <= 100\n",
    "1 <= N <= 100000000"
   ]
  },
  {
   "cell_type": "code",
   "execution_count": 1,
   "id": "150c1f89-b40f-4822-b0c7-d6db5563db01",
   "metadata": {},
   "outputs": [
    {
     "name": "stdin",
     "output_type": "stream",
     "text": [
      " 3\n",
      " 544\n",
      " 7345\n",
      " 12\n"
     ]
    },
    {
     "name": "stdout",
     "output_type": "stream",
     "text": [
      "21\n"
     ]
    }
   ],
   "source": [
    "T = int(input())  # number of test cases\n",
    "for _ in range(T):\n",
    "    N = int(input())  # read number\n",
    "    reverse = 0\n",
    "    while N > 0:\n",
    "        digit = N % 10\n",
    "        reverse = reverse * 10 + digit\n",
    "        N = N // 10\n",
    "print(reverse)"
   ]
  },
  {
   "cell_type": "markdown",
   "id": "aa15a6ee-5b1c-4bff-b7d1-401152e9b844",
   "metadata": {},
   "source": [
    "1. Take an integer N as input. Print the following pattern of N lines. For N =\n",
    "5 The following pattern is printed.\n",
    "*     *\n",
    "*    *\n",
    "*   *\n",
    "*  *\n",
    "* *"
   ]
  },
  {
   "cell_type": "code",
   "execution_count": 4,
   "id": "288429f9-25d2-406d-81c8-e9e29170bcb1",
   "metadata": {},
   "outputs": [
    {
     "name": "stdin",
     "output_type": "stream",
     "text": [
      " 5\n"
     ]
    },
    {
     "name": "stdout",
     "output_type": "stream",
     "text": [
      "*     *\n",
      "*    *\n",
      "*   *\n",
      "*  *\n",
      "* *\n"
     ]
    }
   ],
   "source": [
    "N = int(input())\n",
    "for i in range(N, 0, -1):\n",
    "    for j in range(0, i + 2):\n",
    "        if j == 0 or j == i + 1:\n",
    "            print(\"*\", end=\"\")\n",
    "        else:\n",
    "            print(\" \", end=\"\")\n",
    "    print()"
   ]
  },
  {
   "cell_type": "markdown",
   "id": "493da8df-f3bb-4f57-8da4-34d247fd3a5a",
   "metadata": {},
   "source": [
    "2. Take an integer N as input, print the corresponding pattern for N.\n",
    "\n",
    "Problems on Loops 3\n",
    "For example if N = 5 then pattern will be like:\n",
    "*****\n",
    "_****\n",
    "__***\n",
    "___**\n",
    "____*"
   ]
  },
  {
   "cell_type": "code",
   "execution_count": 5,
   "id": "23e0dbcc-fa97-4f1f-9149-5b53f474908c",
   "metadata": {},
   "outputs": [
    {
     "name": "stdin",
     "output_type": "stream",
     "text": [
      " 5\n"
     ]
    },
    {
     "name": "stdout",
     "output_type": "stream",
     "text": [
      "*****\n",
      " ****\n",
      "  ***\n",
      "   **\n",
      "    *\n"
     ]
    }
   ],
   "source": [
    "N = int(input())\n",
    "for i in range(1, N + 1):\n",
    "    for j in range(1, N + 1):\n",
    "        if j < i:\n",
    "            print(\" \", end=\"\")\n",
    "        else:\n",
    "            print(\"*\", end=\"\")\n",
    "    print()"
   ]
  },
  {
   "cell_type": "markdown",
   "id": "618c7d7c-a189-44c6-887d-2f70c5960f82",
   "metadata": {},
   "source": [
    "3. Take an integer N, print the corresponding Full Pyramid pattern for N.\n",
    "For example if N = 5 then pattern will be like:\n",
    "\n",
    "*\n",
    "* *\n",
    "* * *\n",
    "* * * *\n",
    "* * * * *"
   ]
  },
  {
   "cell_type": "code",
   "execution_count": 7,
   "id": "7f50f6ee-bfef-45c1-9099-a4defe7b2a13",
   "metadata": {},
   "outputs": [
    {
     "name": "stdin",
     "output_type": "stream",
     "text": [
      " 5\n"
     ]
    },
    {
     "name": "stdout",
     "output_type": "stream",
     "text": [
      "* \n",
      "* * \n",
      "* * * \n",
      "* * * * \n",
      "* * * * * \n"
     ]
    }
   ],
   "source": [
    "N = int(input())\n",
    "\n",
    "for i in range(1, N + 1):       # rows\n",
    "    for j in range(1, i + 1):   # stars in each row\n",
    "        print(\"*\", end=\" \")\n",
    "    print()  # move to next line"
   ]
  },
  {
   "cell_type": "markdown",
   "id": "84b6e009-00c1-4f10-aac9-f663e924c137",
   "metadata": {},
   "source": [
    "4. Take an integer N as input, print the corresponding pattern for N.\n",
    "For example if N = 5 then pattern will be like:\n",
    "\n",
    "Problems on Loops 4\n",
    "\n",
    "1\n",
    "1_\n",
    "1_3\n",
    "1_3_\n",
    "1_3_5"
   ]
  },
  {
   "cell_type": "code",
   "execution_count": 9,
   "id": "428a21a4-dab1-4b2c-8d5c-99f560051b6e",
   "metadata": {},
   "outputs": [
    {
     "name": "stdin",
     "output_type": "stream",
     "text": [
      " 5\n"
     ]
    },
    {
     "name": "stdout",
     "output_type": "stream",
     "text": [
      "1\n",
      "1 \n",
      "1 3\n",
      "1 3 \n",
      "1 3 5\n"
     ]
    }
   ],
   "source": [
    "def main():\n",
    "    # take input\n",
    "    n = int(input())\n",
    "    for r in range(1, n + 1):         # rows\n",
    "        for j in range(1, r + 1):     # numbers in each row\n",
    "            if j % 2 != 0:            # odd numbers\n",
    "                print(j, end=\"\")\n",
    "            else:                     # even numbers\n",
    "                print(\" \", end=\"\")\n",
    "        print()                       # new line after each row\n",
    "    return 0\n",
    "\n",
    "if __name__ == '__main__':\n",
    "    main()"
   ]
  },
  {
   "cell_type": "markdown",
   "id": "e5368713-8646-489d-84c0-ddc923bfe5e8",
   "metadata": {},
   "source": [
    "5. Take an Integer N as input. Print an Inverse half pyramid of N lines using * .\n",
    "For example for N = 5, the output should be the following pattern:-\n",
    "\n",
    "*****\n",
    "****\n",
    "***\n",
    "**\n",
    "*"
   ]
  },
  {
   "cell_type": "code",
   "execution_count": 10,
   "id": "73edcf07-d1eb-41be-9f77-f8c52896693f",
   "metadata": {},
   "outputs": [
    {
     "name": "stdin",
     "output_type": "stream",
     "text": [
      " 5\n"
     ]
    },
    {
     "name": "stdout",
     "output_type": "stream",
     "text": [
      "*****\n",
      "****\n",
      "***\n",
      "**\n",
      "*\n"
     ]
    }
   ],
   "source": [
    "N = int(input())\n",
    "for i in range(N, 0, -1):\n",
    "    print(\"*\" * i)"
   ]
  },
  {
   "cell_type": "markdown",
   "id": "4cac2cc6-50a5-4a73-9c4d-c228f26664d0",
   "metadata": {},
   "source": [
    "6. Take an integer N as input, print the corresponding pattern for N.\n",
    "For example if N = 5 then pattern will be like:\n",
    "\n",
    "____*\n",
    "___**\n",
    "__***\n",
    "_****\n",
    "*****"
   ]
  },
  {
   "cell_type": "code",
   "execution_count": 11,
   "id": "e202d8b5-c38d-484e-8c49-0e6fe6cd6aeb",
   "metadata": {},
   "outputs": [
    {
     "name": "stdin",
     "output_type": "stream",
     "text": [
      " 5\n"
     ]
    },
    {
     "name": "stdout",
     "output_type": "stream",
     "text": [
      "    *\n",
      "   **\n",
      "  ***\n",
      " ****\n",
      "*****\n"
     ]
    }
   ],
   "source": [
    "N = int(input())\n",
    "for i in range(1, N + 1):\n",
    "    print(\" \" * (N - i) + \"*\" * i)"
   ]
  },
  {
   "cell_type": "code",
   "execution_count": 12,
   "id": "6c655eea-4ab9-429c-a257-162748a2b70b",
   "metadata": {},
   "outputs": [
    {
     "name": "stdin",
     "output_type": "stream",
     "text": [
      " 5\n"
     ]
    },
    {
     "name": "stdout",
     "output_type": "stream",
     "text": [
      "    *\n",
      "   **\n",
      "  ***\n",
      " ****\n",
      "*****\n"
     ]
    }
   ],
   "source": [
    "N = int(input())\n",
    "for i in range(N, 0, -1):\n",
    "    print(\" \" * (i - 1) + \"*\" * (N - i + 1))"
   ]
  }
 ],
 "metadata": {
  "kernelspec": {
   "display_name": "Python 3 (ipykernel)",
   "language": "python",
   "name": "python3"
  },
  "language_info": {
   "codemirror_mode": {
    "name": "ipython",
    "version": 3
   },
   "file_extension": ".py",
   "mimetype": "text/x-python",
   "name": "python",
   "nbconvert_exporter": "python",
   "pygments_lexer": "ipython3",
   "version": "3.13.5"
  }
 },
 "nbformat": 4,
 "nbformat_minor": 5
}
