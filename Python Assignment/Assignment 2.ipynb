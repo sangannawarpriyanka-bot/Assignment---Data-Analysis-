{
 "cells": [
  {
   "cell_type": "markdown",
   "id": "843d7b0f-e5d3-46a9-bcd2-3bcf59731c95",
   "metadata": {},
   "source": [
    "                                                   Assignment No.2"
   ]
  },
  {
   "cell_type": "markdown",
   "id": "9b20e50e-32c5-464a-87ac-044ed67ed483",
   "metadata": {},
   "source": [
    "1. Question 1:\n",
    "Create a variable age and assign it the value 25 . Then print the value of\n",
    "age along with its data type using the type() function."
   ]
  },
  {
   "cell_type": "code",
   "execution_count": 2,
   "id": "67efff03-4d52-4092-bbed-83d6a4d6bd7d",
   "metadata": {},
   "outputs": [
    {
     "name": "stdout",
     "output_type": "stream",
     "text": [
      "Age: 25 | Data type: <class 'int'>\n"
     ]
    }
   ],
   "source": [
    "# Create a variable age and assign it the value 25\n",
    "age = 25\n",
    "\n",
    "# Print the value of age along with its data type\n",
    "print(\"Age:\", age, \"| Data type:\", type(age))"
   ]
  },
  {
   "cell_type": "code",
   "execution_count": 3,
   "id": "ec624e81-59e9-46c0-8354-58cb9f69a441",
   "metadata": {},
   "outputs": [
    {
     "name": "stdout",
     "output_type": "stream",
     "text": [
      "25\n",
      "<class 'int'>\n"
     ]
    }
   ],
   "source": [
    "age = 25;\n",
    "print(age);\n",
    "print(type(age));"
   ]
  },
  {
   "cell_type": "markdown",
   "id": "f66b5893-3bb9-462c-bc19-defacd4c000e",
   "metadata": {},
   "source": [
    "2. Question 2:\n",
    "Assign the number 12.5 to a variable price . Print both the variable and its\n",
    "data type. Then assign the value 12 to the same variable and print its data\n",
    "type again. What do you observe?"
   ]
  },
  {
   "cell_type": "code",
   "execution_count": 4,
   "id": "355afcc4-d1d5-4823-9bb8-96fec4162174",
   "metadata": {},
   "outputs": [
    {
     "name": "stdout",
     "output_type": "stream",
     "text": [
      "12.5 <class 'float'>\n",
      "12 <class 'int'>\n"
     ]
    }
   ],
   "source": [
    "price = 12.5          # first assign 12.5\n",
    "print(price, type(price))   # print value and type\n",
    "\n",
    "price = 12            # now assign 12\n",
    "print(price, type(price))   # print value and type"
   ]
  },
  {
   "cell_type": "markdown",
   "id": "56e989f8-6d1f-4f4b-abda-ce7fbf657cf7",
   "metadata": {},
   "source": [
    "3. Question 3:\n",
    "Create a variable is_raining and set it to True . Print the value of the variable\n",
    "along with its type. Then set is_raining to False and print the new value and\n",
    "type."
   ]
  },
  {
   "cell_type": "code",
   "execution_count": 8,
   "id": "5900a43e-4518-4eb2-aaf6-bf0bd2375078",
   "metadata": {},
   "outputs": [
    {
     "name": "stdout",
     "output_type": "stream",
     "text": [
      "True\n",
      "<class 'bool'>\n",
      "False\n",
      "<class 'bool'>\n"
     ]
    }
   ],
   "source": [
    "is_raining = True\n",
    "print(is_raining) \n",
    "print(type(is_raining))  # prints value and type\n",
    "\n",
    "is_raining = False\n",
    "print(is_raining) \n",
    "print(type(is_raining))  # prints new value and type"
   ]
  },
  {
   "cell_type": "markdown",
   "id": "b9becdde-c258-4317-900a-b80e9644daa9",
   "metadata": {},
   "source": [
    "4. Question 4:\n",
    "Create a variable my_name and store your full name in it as a string. Then\n",
    "print the value of my_name using single quotes ' ."
   ]
  },
  {
   "cell_type": "code",
   "execution_count": 9,
   "id": "ef84f819-f475-4418-91c4-bc7df931e79b",
   "metadata": {},
   "outputs": [
    {
     "name": "stdout",
     "output_type": "stream",
     "text": [
      "My name is: Priyanka S\n"
     ]
    }
   ],
   "source": [
    "my_name = \"Priyanka Sangannawar\"        # store your full name\n",
    "print('My name is:', my_name)           # print using single quotes"
   ]
  },
  {
   "cell_type": "markdown",
   "id": "c290ebf3-4e87-483b-b241-e5450f41e36e",
   "metadata": {},
   "source": [
    "5. Question 5:\n",
    "Write a Python program that asks the user for their name and age using the\n",
    "input() function. Store the inputs in variables and print a sentence like\n",
    "\"Hello, [Name]! You are [Age] years old.\" Ensure you cast the age to an\n",
    "integer."
   ]
  },
  {
   "cell_type": "code",
   "execution_count": 25,
   "id": "e9540a66-1dff-4bb3-b711-10d033c8e044",
   "metadata": {},
   "outputs": [
    {
     "name": "stdin",
     "output_type": "stream",
     "text": [
      "Enter your name  priyanka\n",
      "Enter your age  26\n"
     ]
    },
    {
     "name": "stdout",
     "output_type": "stream",
     "text": [
      "Hello, priyanka! You are 26 years old.\n"
     ]
    }
   ],
   "source": [
    "# Ask the user for their name\n",
    "name = input(\"Enter your name \")\n",
    "\n",
    "# Ask the user for their age and cast it to integer\n",
    "age = int(input(\"Enter your age \"))\n",
    "\n",
    "# Print the sentence\n",
    "print(f\"Hello, {name}! You are {age} years old.\")"
   ]
  },
  {
   "cell_type": "code",
   "execution_count": 17,
   "id": "76319bc5-a772-4509-a9a8-679d02973228",
   "metadata": {},
   "outputs": [
    {
     "name": "stdin",
     "output_type": "stream",
     "text": [
      "Enter your name:  Priyanka\n",
      "Enter your age:  26\n"
     ]
    },
    {
     "name": "stdout",
     "output_type": "stream",
     "text": [
      "Hello, Priyanka! You are 26 years old.\n"
     ]
    }
   ],
   "source": [
    "name = input(\"Enter your name: \")\n",
    "age = int(input(\"Enter your age: \"))\n",
    "print(\"Hello,\", name + \"!\", \"You are\", age, \"years old.\")"
   ]
  },
  {
   "cell_type": "markdown",
   "id": "2fd4c18c-5e0b-457a-8bf2-75dd8bbe694e",
   "metadata": {},
   "source": [
    "6. Question 6:\n",
    "Create two variables x and y and assign them the values 10 and 3.5 ,\n",
    "respectively. Print their values and types. Then, create a new variable\n",
    "sum_xy and store the sum of x and y . Print the result and its type."
   ]
  },
  {
   "cell_type": "code",
   "execution_count": 26,
   "id": "10ae036a-c24d-4e62-b956-97ee00ad732a",
   "metadata": {},
   "outputs": [
    {
     "name": "stdout",
     "output_type": "stream",
     "text": [
      "10 <class 'int'>\n",
      "3.5 <class 'float'>\n",
      "13.5 <class 'float'>\n"
     ]
    }
   ],
   "source": [
    "x = 10\n",
    "y = 3.5\n",
    "\n",
    "print(x, type(x))\n",
    "print(y, type(y))\n",
    "\n",
    "sum_xy = x + y\n",
    "print(sum_xy, type(sum_xy))"
   ]
  },
  {
   "cell_type": "markdown",
   "id": "4b101bfc-d9fd-4a6f-b3e3-5722c6dbd0e6",
   "metadata": {},
   "source": [
    "7. Question 7:\n",
    "Using the type() function, check and print the data type of the following:\n",
    " 45.0\n",
    " \"hello\"\n",
    " None\n",
    " False."
   ]
  },
  {
   "cell_type": "code",
   "execution_count": 28,
   "id": "a894fa97-123d-44c9-a189-9c196d42e7f3",
   "metadata": {},
   "outputs": [
    {
     "name": "stdout",
     "output_type": "stream",
     "text": [
      "<class 'float'>\n",
      "<class 'str'>\n",
      "<class 'NoneType'>\n",
      "<class 'bool'>\n"
     ]
    }
   ],
   "source": [
    "print(type(45.0))     # float\n",
    "print(type(\"hello\"))  # string\n",
    "print(type(None))     # NoneType\n",
    "print(type(False))    # bool"
   ]
  },
  {
   "cell_type": "code",
   "execution_count": 35,
   "id": "9aa642fe-6083-4ad2-af8c-6d117d3283f0",
   "metadata": {},
   "outputs": [
    {
     "name": "stdout",
     "output_type": "stream",
     "text": [
      "<class 'float'>\n",
      "<class 'str'>\n",
      "<class 'NoneType'>\n",
      "<class 'bool'>\n"
     ]
    }
   ],
   "source": [
    "A = 45.0\n",
    "B = \"hello\"\n",
    "C = (None)\n",
    "D = False\n",
    "print(type(A))\n",
    "print(type(B))\n",
    "print(type(C))\n",
    "print(type(D))"
   ]
  },
  {
   "cell_type": "markdown",
   "id": "22f773a6-c058-4c00-8918-c5f9dbf0168d",
   "metadata": {},
   "source": [
    "8. Question 8:\n",
    "Write a Python program to print three strings \"apple\" , \"banana\" , and \"cherry\"\n",
    "on the same line, separated by a space. Then modify the program to\n",
    "separate the strings using a comma , instead of a space."
   ]
  },
  {
   "cell_type": "code",
   "execution_count": 29,
   "id": "96da6278-2c01-4739-8e41-bbb013bc8c65",
   "metadata": {},
   "outputs": [
    {
     "name": "stdout",
     "output_type": "stream",
     "text": [
      "apple banana cherry\n",
      "apple,banana,cherry\n"
     ]
    }
   ],
   "source": [
    "print(\"apple\", \"banana\", \"cherry\")            #Strings separated by a space\n",
    "print(\"apple\", \"banana\", \"cherry\", sep=\",\")   #Strings separated by a comma"
   ]
  },
  {
   "cell_type": "markdown",
   "id": "fca67ae1-7673-4a65-ad0b-eeb06c80289d",
   "metadata": {},
   "source": [
    "9. Question 9:\n",
    "Create a variable big_number and assign it a very large integer value (e.g.,\n",
    "987654321987654321 ). Print the value and its type. What do you notice about\n",
    "the size of the number?"
   ]
  },
  {
   "cell_type": "code",
   "execution_count": 32,
   "id": "151777fa-d32c-4d6d-a5f5-c5d4e761430e",
   "metadata": {},
   "outputs": [
    {
     "name": "stdout",
     "output_type": "stream",
     "text": [
      "987654321987654321 <class 'int'>\n"
     ]
    }
   ],
   "source": [
    "big_number = 987654321987654321       # a very large integer\n",
    "print(big_number, type(big_number))\n",
    "\n",
    "#In Python, even very large integers are handled by the built-in int type.\n",
    "#There’s no fixed size limit for integers (other than your computer’s memory),\n",
    "#so Python can store numbers much larger than in many other programming languages."
   ]
  },
  {
   "cell_type": "markdown",
   "id": "721564fb-90f1-4339-8676-095adb780381",
   "metadata": {},
   "source": [
    "10. Question 10:\n",
    "Write a Python program that prints the result of multiplying two floats (e.g.,\n",
    "2.5 and 3.7 ). Then check and print the data type of the result."
   ]
  },
  {
   "cell_type": "code",
   "execution_count": 37,
   "id": "020d783d-966c-41aa-9e6e-29e141382e62",
   "metadata": {},
   "outputs": [
    {
     "name": "stdout",
     "output_type": "stream",
     "text": [
      "9.25\n",
      "<class 'float'>\n"
     ]
    }
   ],
   "source": [
    "A = 2.5\n",
    "B = 3.7\n",
    "\n",
    "C = A * B         # multiply two floats\n",
    "print(C)          # print the result\n",
    "print(type(C))    # print the data type of the result"
   ]
  }
 ],
 "metadata": {
  "kernelspec": {
   "display_name": "Python 3 (ipykernel)",
   "language": "python",
   "name": "python3"
  },
  "language_info": {
   "codemirror_mode": {
    "name": "ipython",
    "version": 3
   },
   "file_extension": ".py",
   "mimetype": "text/x-python",
   "name": "python",
   "nbconvert_exporter": "python",
   "pygments_lexer": "ipython3",
   "version": "3.13.5"
  }
 },
 "nbformat": 4,
 "nbformat_minor": 5
}
