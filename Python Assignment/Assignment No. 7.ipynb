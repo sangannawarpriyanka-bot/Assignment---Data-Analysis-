{
 "cells": [
  {
   "cell_type": "markdown",
   "id": "0a741823-6821-4e75-8f01-108e1046adff",
   "metadata": {},
   "source": [
    "                                                Assignment No. 7"
   ]
  },
  {
   "cell_type": "markdown",
   "id": "a7201a77-a3e2-4e1d-b97c-dc02452f9880",
   "metadata": {},
   "source": [
    "# Function Parameters and Argument Behavior"
   ]
  },
  {
   "cell_type": "markdown",
   "id": "2f4c6323-1b00-4d66-8d63-cef7c8d6e919",
   "metadata": {},
   "source": [
    "1. Default Arguments\n",
    "Q1. What will be the output of the following function call, and why?"
   ]
  },
  {
   "cell_type": "code",
   "execution_count": 1,
   "id": "b4ba2691-7afe-4f5c-8874-115f5dc5e504",
   "metadata": {},
   "outputs": [
    {
     "name": "stdout",
     "output_type": "stream",
     "text": [
      "1 2 8\n"
     ]
    },
    {
     "data": {
      "text/plain": [
       "'\\nHow it works:\\na → required. You gave 1 → a = 1\\nb → default is 6. You gave 2 → b = 2\\nc → default is 8. You didn’t give anything → c = 8\\nSo print(a, b, c)\\n'"
      ]
     },
     "execution_count": 1,
     "metadata": {},
     "output_type": "execute_result"
    }
   ],
   "source": [
    "def func(a, b=6, c=8):\n",
    "    print(a, b, c)\n",
    "func(1, 2)                  \n",
    "\n",
    "'''\n",
    "How it works:\n",
    "a → required. You gave 1 → a = 1\n",
    "b → default is 6. You gave 2 → b = 2\n",
    "c → default is 8. You didn’t give anything → c = 8\n",
    "So print(a, b, c)\n",
    "'''"
   ]
  },
  {
   "cell_type": "markdown",
   "id": "f58e6294-3cce-4f9b-b146-355995257c31",
   "metadata": {},
   "source": [
    "2. Keyword Arguments with Defaults\n",
    "Q2. Predict the output and explain:"
   ]
  },
  {
   "cell_type": "code",
   "execution_count": 2,
   "id": "216a7edc-fda8-43d9-89fd-ecef4692585c",
   "metadata": {},
   "outputs": [
    {
     "data": {
      "text/plain": [
       "'\\nHow it works:\\na → required. You gave 1 → a = 1\\nb → you gave b=2 (keyword argument) → b = 2\\nc → default is 5, but you gave c=3 → c = 3\\nSo inside the function:\\na = 1, b = 2, c = 3\\n'"
      ]
     },
     "execution_count": 2,
     "metadata": {},
     "output_type": "execute_result"
    }
   ],
   "source": [
    " def func(a, b, c=5):\n",
    "    print(a, b, c)\n",
    "    func(1, c=3, b=2)\n",
    "'''\n",
    "How it works:\n",
    "a → required. You gave 1 → a = 1\n",
    "b → you gave b=2 (keyword argument) → b = 2\n",
    "c → default is 5, but you gave c=3 → c = 3\n",
    "So inside the function:\n",
    "a = 1, b = 2, c = 3\n",
    "'''"
   ]
  },
  {
   "cell_type": "markdown",
   "id": "426a1566-2774-4163-baf9-78ca1db24aa1",
   "metadata": {},
   "source": [
    "3. Positional Variable-Length Arguments\n",
    "Q3. Explain the behavior and output:"
   ]
  },
  {
   "cell_type": "code",
   "execution_count": 3,
   "id": "b9828502-fa84-4453-9f98-addfb2aa7377",
   "metadata": {},
   "outputs": [
    {
     "name": "stdout",
     "output_type": "stream",
     "text": [
      "1 (2, 3)\n"
     ]
    },
    {
     "data": {
      "text/plain": [
       "'\\nHow it works:\\na → first (required) argument. You gave 1 → a = 1\\n*pargs → collects all extra positional arguments into a tuple.\\n You passed 2 and 3 after 1, so pargs = (2, 3)\\nSo inside the function:\\na = 1\\npargs = (2, 3)\\n'"
      ]
     },
     "execution_count": 3,
     "metadata": {},
     "output_type": "execute_result"
    }
   ],
   "source": [
    "def func(a, *pargs):\n",
    "    print(a, pargs)\n",
    "func(1, 2, 3)\n",
    "'''\n",
    "How it works:\n",
    "a → first (required) argument. You gave 1 → a = 1\n",
    "*pargs → collects all extra positional arguments into a tuple.\n",
    " You passed 2 and 3 after 1, so pargs = (2, 3)\n",
    "So inside the function:\n",
    "a = 1\n",
    "pargs = (2, 3)\n",
    "'''"
   ]
  },
  {
   "cell_type": "markdown",
   "id": "dbe111d2-bf3c-469f-b6e8-c878d8ed00c4",
   "metadata": {},
   "source": [
    "4. Keyword Variable-Length Arguments\n",
    "Q4. What will this code print, and why?"
   ]
  },
  {
   "cell_type": "code",
   "execution_count": 4,
   "id": "22b373da-93d1-4a0e-b538-50b73fe5fbb9",
   "metadata": {},
   "outputs": [
    {
     "name": "stdout",
     "output_type": "stream",
     "text": [
      "1 {'c': 3, 'b': 2}\n"
     ]
    },
    {
     "data": {
      "text/plain": [
       "\"\\nHow it works:\\na takes the value 1.\\n**kargs collects all extra keyword arguments (c=3 and b=2) into a dictionary.\\nSo inside the function:\\na = 1\\nkargs = {'c': 3, 'b': 2}\\n\""
      ]
     },
     "execution_count": 4,
     "metadata": {},
     "output_type": "execute_result"
    }
   ],
   "source": [
    "def func(a, **kargs):\n",
    "    print(a, kargs)\n",
    "func(a=1, c=3, b=2)\n",
    "'''\n",
    "How it works:\n",
    "a takes the value 1.\n",
    "**kargs collects all extra keyword arguments (c=3 and b=2) into a dictionary.\n",
    "So inside the function:\n",
    "a = 1\n",
    "kargs = {'c': 3, 'b': 2}\n",
    "'''"
   ]
  },
  {
   "cell_type": "markdown",
   "id": "9f1a48d0-848a-4abf-8ea5-f8464edfa9b4",
   "metadata": {},
   "source": [
    "5. Mixing Positional and Unpacked Tuple Arguments\n",
    "Q5. Explain the result of this call:"
   ]
  },
  {
   "cell_type": "code",
   "execution_count": 5,
   "id": "250284a5-c645-41bd-b52a-4aded682f5de",
   "metadata": {},
   "outputs": [
    {
     "name": "stdout",
     "output_type": "stream",
     "text": [
      "1 5 6 5\n"
     ]
    },
    {
     "data": {
      "text/plain": [
       "'\\nHow it works:\\nFunction needs a, b and has defaults c=8, d=5.\\nCall func(1, *(5, 6)) → the *(5, 6) breaks into 5 and 6.\\nSo it’s the same as:\\nfunc(1, 5, 6)\\n    Now:\\na = 1\\nb = 5\\nc = 6 (default 8 replaced)\\nd = 5 (default stays)\\n'"
      ]
     },
     "execution_count": 5,
     "metadata": {},
     "output_type": "execute_result"
    }
   ],
   "source": [
    "def func(a, b, c=8, d=5):\n",
    "    print(a, b, c, d)\n",
    "func(1, *(5, 6))\n",
    "'''\n",
    "How it works:\n",
    "Function needs a, b and has defaults c=8, d=5.\n",
    "Call func(1, *(5, 6)) → the *(5, 6) breaks into 5 and 6.\n",
    "So it’s the same as:\n",
    "func(1, 5, 6)\n",
    "    Now:\n",
    "a = 1\n",
    "b = 5\n",
    "c = 6 (default 8 replaced)\n",
    "d = 5 (default stays)\n",
    "'''"
   ]
  },
  {
   "cell_type": "markdown",
   "id": "a7b27cee-2701-446e-96b3-ce2d2f7feaad",
   "metadata": {},
   "source": [
    "6. Mutable vs Immutable Behavior\n",
    "Q6. Predict the output of the variables l, m, and n after this code runs:"
   ]
  },
  {
   "cell_type": "code",
   "execution_count": 6,
   "id": "e8eb6f46-af4c-44dd-8e2d-f5370cee3078",
   "metadata": {},
   "outputs": [
    {
     "name": "stdout",
     "output_type": "stream",
     "text": [
      "1 ['x'] {'a': 'y'}\n"
     ]
    },
    {
     "data": {
      "text/plain": [
       "\"\\nHow it works:\\nl = 1 (integer)\\nm = [1] (list)\\nn = {'a': 0} (dictionary)\\n    Call:\\nfunc(l, m, n)\\n    Inside the function:\\na = 2 → changes only local a, no effect on l.\\nb[0] = 'x' → modifies the original list m.\\nc['a'] = 'y' → modifies the original dictionary n.\\n    After the function:\\nl is still 1 (unchanged).\\nm is now ['x'] (list modified).\\nn is now {'a': 'y'} (dictionary modified).\\n\""
      ]
     },
     "execution_count": 6,
     "metadata": {},
     "output_type": "execute_result"
    }
   ],
   "source": [
    "def func(a, b, c):\n",
    "    a = 2\n",
    "    b[0] = 'x'\n",
    "    c['a'] = 'y'\n",
    "\n",
    "l = 1\n",
    "m = [1]\n",
    "n = {'a': 0}\n",
    "\n",
    "func(l, m, n)\n",
    "print(l, m, n)\n",
    "\n",
    "'''\n",
    "How it works:\n",
    "l = 1 (integer)\n",
    "m = [1] (list)\n",
    "n = {'a': 0} (dictionary)\n",
    "    Call:\n",
    "func(l, m, n)\n",
    "    Inside the function:\n",
    "a = 2 → changes only local a, no effect on l.\n",
    "b[0] = 'x' → modifies the original list m.\n",
    "c['a'] = 'y' → modifies the original dictionary n.\n",
    "    After the function:\n",
    "l is still 1 (unchanged).\n",
    "m is now ['x'] (list modified).\n",
    "n is now {'a': 'y'} (dictionary modified).\n",
    "'''"
   ]
  },
  {
   "cell_type": "markdown",
   "id": "65944e29-f617-4976-afca-6bddfbd5692f",
   "metadata": {},
   "source": [
    "7. Q7.Bonus Challenge:  Write a function that accepts:\n",
    "    • one required argument,\n",
    "    • a variable number of positional arguments,\n",
    "    • a variable number of keyword arguments,\n",
    "        Then print all three components. Call it with:\n",
    "            my_func(10, 20, 30, x=5, y=15)"
   ]
  },
  {
   "cell_type": "code",
   "execution_count": 7,
   "id": "19500365-5bed-4cf7-a13f-00bc2c8a9737",
   "metadata": {},
   "outputs": [
    {
     "name": "stdout",
     "output_type": "stream",
     "text": [
      "10\n",
      "(20, 30)\n",
      "{'x': 5, 'y': 15}\n"
     ]
    }
   ],
   "source": [
    "def my_func(a, *args, **kwargs):\n",
    "    print(a)\n",
    "    print(args)\n",
    "    print(kwargs)\n",
    "\n",
    "my_func(10, 20, 30, x=5, y=15)"
   ]
  }
 ],
 "metadata": {
  "kernelspec": {
   "display_name": "Python 3 (ipykernel)",
   "language": "python",
   "name": "python3"
  },
  "language_info": {
   "codemirror_mode": {
    "name": "ipython",
    "version": 3
   },
   "file_extension": ".py",
   "mimetype": "text/x-python",
   "name": "python",
   "nbconvert_exporter": "python",
   "pygments_lexer": "ipython3",
   "version": "3.13.5"
  }
 },
 "nbformat": 4,
 "nbformat_minor": 5
}
