{
 "cells": [
  {
   "cell_type": "markdown",
   "id": "83c8c98c-3d70-4ca8-81ae-728059cb214c",
   "metadata": {},
   "source": [
    "                                           Assignment No. 3"
   ]
  },
  {
   "cell_type": "markdown",
   "id": "c9a0170d-31f3-4ec5-8234-d9d01515c94f",
   "metadata": {},
   "source": [
    "1. Question 1:\n",
    "Create a variable x with the value 15 . Perform floored division by 4 and\n",
    "print the result. What is the difference between floored division and normal\n",
    "division?"
   ]
  },
  {
   "cell_type": "code",
   "execution_count": 12,
   "id": "b0cfdde6-fb62-4f53-9041-46449e975c62",
   "metadata": {},
   "outputs": [
    {
     "name": "stdout",
     "output_type": "stream",
     "text": [
      "3\n"
     ]
    }
   ],
   "source": [
    "x = 15\n",
    "result = x // 4  # floored division\n",
    "print(result)"
   ]
  },
  {
   "cell_type": "markdown",
   "id": "b6226c71-66aa-495d-8bcb-a58ccf8261d3",
   "metadata": {},
   "source": [
    "Normal Division (/) gives a float (decimal) result.\n",
    "Example: 15 / 4 = 3.75\n",
    "\n",
    "Floored Division (//) gives the largest integer less than or equal to the result (rounds down).\n",
    "Example: 15 // 4 = 3\n",
    "    So floored division always truncates (cuts off) the decimal part."
   ]
  },
  {
   "cell_type": "markdown",
   "id": "c53d70fe-887c-49f8-a551-82becda62236",
   "metadata": {},
   "source": [
    "2. Question 2:\n",
    "Write a program to calculate 8 ** 2 and 16 ** 0.5 . Print both results and\n",
    "describe what each represents."
   ]
  },
  {
   "cell_type": "code",
   "execution_count": 13,
   "id": "38e5365c-a095-44cf-b32f-0457c1f5b194",
   "metadata": {},
   "outputs": [
    {
     "name": "stdout",
     "output_type": "stream",
     "text": [
      "64\n",
      "4.0\n"
     ]
    }
   ],
   "source": [
    "# Calculate powers\n",
    "result1 = 8 ** 2       # 8 squared\n",
    "result2 = 16 ** 0.5    # square root of 16\n",
    "\n",
    "print(result1)\n",
    "print(result2)"
   ]
  },
  {
   "cell_type": "markdown",
   "id": "16ca09d4-0c56-49ca-a4d7-ea8057a36c57",
   "metadata": {},
   "source": [
    "3. Question 3:\n",
    "Use arithmetic operators to solve the following expression: 20 - 5 * 3 + 8 /4 .Use parentheses to make sure the addition happens before\n",
    "multiplication. Print the output."
   ]
  },
  {
   "cell_type": "code",
   "execution_count": 14,
   "id": "0be50442-e75a-4a32-b2af-02561204e053",
   "metadata": {},
   "outputs": [
    {
     "name": "stdout",
     "output_type": "stream",
     "text": [
      "-5.0\n"
     ]
    }
   ],
   "source": [
    "result = 20 - (5 * (3 + 8 / 4))  # parentheses to do addition before multiplication\n",
    "print(result)"
   ]
  },
  {
   "cell_type": "markdown",
   "id": "22ab9ef6-0525-4793-8e5a-b1ac6f45a349",
   "metadata": {},
   "source": [
    "4. Question 4:\n",
    "Assign the value 7 to a variable num . Convert it to a float and print the\n",
    "result. What is the difference between 7 and 7.0 ?"
   ]
  },
  {
   "cell_type": "code",
   "execution_count": 15,
   "id": "9cd035e2-5eb8-481a-96bc-9b0e9e85cd93",
   "metadata": {},
   "outputs": [
    {
     "name": "stdout",
     "output_type": "stream",
     "text": [
      "7.0\n"
     ]
    }
   ],
   "source": [
    "num = 7                        # integer\n",
    "num_float = float(num)         # convert to float\n",
    "print(num_float)"
   ]
  },
  {
   "cell_type": "markdown",
   "id": "eae39750-0d34-4595-b130-fb6f33d6066a",
   "metadata": {},
   "source": [
    "Both represent the same value mathematically, but their data types are different in Python."
   ]
  },
  {
   "cell_type": "markdown",
   "id": "2123e4bf-b044-4530-b208-b089835f08d5",
   "metadata": {},
   "source": [
    "5. Question 5:\n",
    "Use a comparison operator to check if 100 is greater than 50 . Print the\n",
    "result and indicate what type of value this is."
   ]
  },
  {
   "cell_type": "code",
   "execution_count": 16,
   "id": "e8db0750-854a-40b6-b69b-50cf3ec30502",
   "metadata": {},
   "outputs": [
    {
     "name": "stdout",
     "output_type": "stream",
     "text": [
      "True\n",
      "<class 'bool'>\n"
     ]
    }
   ],
   "source": [
    "result = 100 > 50  # comparison\n",
    "print(result)\n",
    "print(type(result))"
   ]
  },
  {
   "cell_type": "markdown",
   "id": "e86b65d9-4d19-4ac4-af21-a9ff6d1e9be0",
   "metadata": {},
   "source": [
    "6. Question 6:\n",
    "Assign True to a variable is_sunny and False to is_weekend . Use logical\n",
    "operators to check if it is sunny and the weekend ( is_sunny and is_weekend ).\n",
    "Print the result."
   ]
  },
  {
   "cell_type": "code",
   "execution_count": 17,
   "id": "32d7d2eb-736d-4702-b61c-c1c395d313bb",
   "metadata": {},
   "outputs": [
    {
     "name": "stdout",
     "output_type": "stream",
     "text": [
      "False\n"
     ]
    }
   ],
   "source": [
    "is_sunny = True\n",
    "is_weekend = False\n",
    "\n",
    "result = is_sunny and is_weekend  # both must be True\n",
    "print(result)"
   ]
  },
  {
   "cell_type": "markdown",
   "id": "c2652364-3afa-4d3e-8589-ccfa3ea69803",
   "metadata": {},
   "source": [
    "7. Question 7:\n",
    "Create a variable password and set it to \"my_password123\" . Ask the user to input\n",
    "a password and print True if the input matches the value of password ,\n",
    "otherwise print False ."
   ]
  },
  {
   "cell_type": "code",
   "execution_count": 18,
   "id": "91428c11-3fa5-434b-a288-8b60333a9f29",
   "metadata": {},
   "outputs": [
    {
     "name": "stdin",
     "output_type": "stream",
     "text": [
      "Enter password:  my_password123\n"
     ]
    },
    {
     "name": "stdout",
     "output_type": "stream",
     "text": [
      "True\n"
     ]
    }
   ],
   "source": [
    "password = \"my_password123\"                # stored password\n",
    "user_input = input(\"Enter password: \")     # ask user\n",
    "\n",
    "print(user_input == password)              # True if matches, else False"
   ]
  },
  {
   "cell_type": "markdown",
   "id": "65625436-6494-45a6-9080-6335adaecdc8",
   "metadata": {},
   "source": [
    "8. Question 8:\n",
    "Assign the value 50 to a variable marks . Increment the value of marks by 5\n",
    "using the += operator, then print the new value."
   ]
  },
  {
   "cell_type": "code",
   "execution_count": 19,
   "id": "2151f492-6e31-47ed-b710-87624445cee4",
   "metadata": {},
   "outputs": [
    {
     "name": "stdout",
     "output_type": "stream",
     "text": [
      "55\n"
     ]
    }
   ],
   "source": [
    "marks = 50\n",
    "marks += 5   # increment by 5\n",
    "print(marks)"
   ]
  },
  {
   "cell_type": "markdown",
   "id": "4be808a2-f3a6-4b09-beef-869489b22b1e",
   "metadata": {},
   "source": [
    "9. Question 9:\n",
    "Write a program to check if the value of a = 0 and b = 10 satisfies a or b .\n",
    "Print the output and explain why it gives that result."
   ]
  },
  {
   "cell_type": "code",
   "execution_count": 20,
   "id": "b82a1d47-3d60-41a9-8230-3526d96a1012",
   "metadata": {},
   "outputs": [
    {
     "name": "stdout",
     "output_type": "stream",
     "text": [
      "10\n"
     ]
    }
   ],
   "source": [
    "a = 0\n",
    "b = 10\n",
    "\n",
    "result = a or b\n",
    "print(result)"
   ]
  },
  {
   "cell_type": "markdown",
   "id": "fb9fa3c9-f4cc-4eba-8275-1c6f957d57f7",
   "metadata": {},
   "source": [
    "a = 0 (False), b = 10 (True).\n",
    "a or b → returns the first True value → 10"
   ]
  },
  {
   "cell_type": "markdown",
   "id": "1e0d6892-901d-4972-899a-3abd4ed8953a",
   "metadata": {},
   "source": [
    "10. Question 10:\n",
    "Use not to negate the value of False and print the result. Explain what the\n",
    "not operator does in Python."
   ]
  },
  {
   "cell_type": "code",
   "execution_count": 21,
   "id": "691add4e-2e39-4213-80ec-b21aef71e19d",
   "metadata": {},
   "outputs": [
    {
     "name": "stdout",
     "output_type": "stream",
     "text": [
      "True\n"
     ]
    }
   ],
   "source": [
    "print(not False)"
   ]
  },
  {
   "cell_type": "markdown",
   "id": "1f9e4da9-0fa8-4786-a268-01e3a04afb02",
   "metadata": {},
   "source": [
    "not flips the value: not False → True , not True → False"
   ]
  }
 ],
 "metadata": {
  "kernelspec": {
   "display_name": "Python 3 (ipykernel)",
   "language": "python",
   "name": "python3"
  },
  "language_info": {
   "codemirror_mode": {
    "name": "ipython",
    "version": 3
   },
   "file_extension": ".py",
   "mimetype": "text/x-python",
   "name": "python",
   "nbconvert_exporter": "python",
   "pygments_lexer": "ipython3",
   "version": "3.13.5"
  }
 },
 "nbformat": 4,
 "nbformat_minor": 5
}
